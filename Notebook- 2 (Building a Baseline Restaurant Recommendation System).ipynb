{
 "cells": [
  {
   "cell_type": "markdown",
   "metadata": {
    "id": "hTAwWJ5Qlmwk"
   },
   "source": [
    "\n",
    "# ML-1: Collaborative filtering\n",
    "## Project: Building a Restaurant Recommendation System\n",
    "\n",
    "## Baseline Model\n",
    "\n",
    "\n",
    "**ML-1 Cohort 1** <br>"
   ]
  },
  {
   "cell_type": "markdown",
   "metadata": {
    "id": "Bv36XfX2X_Sh"
   },
   "source": [
    "Name of people who have worked on this project: \n",
    "\n",
    "Nehal Sharma 11675\n",
    "\n",
    "Keerthi Jayaram 11688\n",
    "\n",
    "Manila Devaraj 11699\n",
    "\n",
    "Gurushankar K. 500\n",
    "\n"
   ]
  },
  {
   "cell_type": "markdown",
   "metadata": {},
   "source": [
    "## Table of Contents \n",
    "\n",
    "* Loading Data\n",
    "* Setting up the model\n",
    "  * Train-test Split\n",
    "* Training the model\n",
    "* Fitting the model\n",
    "  * Making Rating Prdictions\n",
    "  * Making Recommendation to users\n",
    "  * Business Biases\n",
    "  * User Biases\n",
    "* Results\n",
    "* Limitations of the base model\n",
    "  "
   ]
  },
  {
   "cell_type": "markdown",
   "metadata": {},
   "source": [
    "## Overview\n",
    "\n",
    "### The baseline model"
   ]
  },
  {
   "cell_type": "markdown",
   "metadata": {},
   "source": [
    "<img src=\"https://nick-morgan.github.io/Python-Recommendation-Engine-Yelp/images/projectgoal.png\" width=500/> \n",
    "\n",
    "***Image credits:https://nick-morgan.github.io/***\n",
    "\n",
    "\n",
    "\n",
    "**1) We import the data obtained from the analysis done in our EDA notebook (refer : EDA_NOTEBOOK_NAME_HERE.ipynb, and perform train-test split on the data.**\n",
    "\n",
    "**2) The data is split into Training , Validation and Test sets in the proportion of 60% , 20% and 20% respectively.**\n",
    "\n",
    "**3) We then set our hypeparameters, the size of the latent factors or the embeddings,  and the amount of regularization for the model. We use the Keras functional API as we have two beginning points that need merging :**\n",
    "    \n",
    "    \n",
    "   * ***User_id input layer***\n",
    "\n",
    "   * ***Business_id input layer***\n",
    "    \n",
    "**4) Our data consists of 3 columns, the user_id, business_id and the third being the stars(rating). We pass user_id on left and business_id on right as the inputs and obtain output of the sigmoid.\n",
    "   Our model is then compiled with Stochastic Gradient Descent (SGD) and we vary the learning rates (lr) to get best fit.**\n",
    " \n",
    "\n",
    "**5) For the predictions, we pass an array of user_ids business_ids in the** ***model.predict()*** **function.**\n",
    "\n",
    "**6) Similar to the predictions, we then create a Model instance for the user biases and business(restaurant) biases.**\n"
   ]
  },
  {
   "cell_type": "markdown",
   "metadata": {},
   "source": [
    "### **Importing the neccesary libraries**"
   ]
  },
  {
   "cell_type": "code",
   "execution_count": null,
   "metadata": {},
   "outputs": [],
   "source": [
    "import numpy as np\n",
    "import pandas as pd\n",
    "import matplotlib.pyplot as plt\n",
    "import seaborn as sns\n",
    "\n",
    "\n",
    "%matplotlib inline"
   ]
  },
  {
   "cell_type": "markdown",
   "metadata": {},
   "source": [
    "## Loading Data"
   ]
  },
  {
   "cell_type": "code",
   "execution_count": null,
   "metadata": {},
   "outputs": [],
   "source": [
    "df = pd.read_csv(\"processed_data/reviews_contig.csv\", index=False)"
   ]
  },
  {
   "cell_type": "code",
   "execution_count": 186,
   "metadata": {},
   "outputs": [
    {
     "data": {
      "text/html": [
       "<div>\n",
       "<style scoped>\n",
       "    .dataframe tbody tr th:only-of-type {\n",
       "        vertical-align: middle;\n",
       "    }\n",
       "\n",
       "    .dataframe tbody tr th {\n",
       "        vertical-align: top;\n",
       "    }\n",
       "\n",
       "    .dataframe thead th {\n",
       "        text-align: right;\n",
       "    }\n",
       "</style>\n",
       "<table border=\"1\" class=\"dataframe\">\n",
       "  <thead>\n",
       "    <tr style=\"text-align: right;\">\n",
       "      <th></th>\n",
       "      <th>user_id</th>\n",
       "      <th>business_id</th>\n",
       "      <th>stars</th>\n",
       "    </tr>\n",
       "  </thead>\n",
       "  <tbody>\n",
       "    <tr>\n",
       "      <th>0</th>\n",
       "      <td>0</td>\n",
       "      <td>0</td>\n",
       "      <td>4</td>\n",
       "    </tr>\n",
       "    <tr>\n",
       "      <th>1</th>\n",
       "      <td>1</td>\n",
       "      <td>1</td>\n",
       "      <td>4</td>\n",
       "    </tr>\n",
       "    <tr>\n",
       "      <th>2</th>\n",
       "      <td>2</td>\n",
       "      <td>2</td>\n",
       "      <td>5</td>\n",
       "    </tr>\n",
       "    <tr>\n",
       "      <th>3</th>\n",
       "      <td>3</td>\n",
       "      <td>3</td>\n",
       "      <td>3</td>\n",
       "    </tr>\n",
       "    <tr>\n",
       "      <th>4</th>\n",
       "      <td>4</td>\n",
       "      <td>4</td>\n",
       "      <td>1</td>\n",
       "    </tr>\n",
       "  </tbody>\n",
       "</table>\n",
       "</div>"
      ],
      "text/plain": [
       "   user_id  business_id  stars\n",
       "0        0            0      4\n",
       "1        1            1      4\n",
       "2        2            2      5\n",
       "3        3            3      3\n",
       "4        4            4      1"
      ]
     },
     "execution_count": 186,
     "metadata": {},
     "output_type": "execute_result"
    }
   ],
   "source": [
    "df.head()"
   ]
  },
  {
   "cell_type": "code",
   "execution_count": 185,
   "metadata": {},
   "outputs": [],
   "source": [
    "business_df = pd.read_csv(\"processed_data/businesses_contig.csv\")"
   ]
  },
  {
   "cell_type": "markdown",
   "metadata": {},
   "source": [
    "**Indexing the business_df dataframe using the unique business \"id\" that we generated in the previous segment.**"
   ]
  },
  {
   "cell_type": "code",
   "execution_count": null,
   "metadata": {},
   "outputs": [],
   "source": [
    "business_df = business_df.drop('business_id', axis=1).set_index('id')\n",
    "business_df.head()"
   ]
  },
  {
   "cell_type": "code",
   "execution_count": 187,
   "metadata": {},
   "outputs": [
    {
     "data": {
      "text/html": [
       "<div>\n",
       "<style scoped>\n",
       "    .dataframe tbody tr th:only-of-type {\n",
       "        vertical-align: middle;\n",
       "    }\n",
       "\n",
       "    .dataframe tbody tr th {\n",
       "        vertical-align: top;\n",
       "    }\n",
       "\n",
       "    .dataframe thead th {\n",
       "        text-align: right;\n",
       "    }\n",
       "</style>\n",
       "<table border=\"1\" class=\"dataframe\">\n",
       "  <thead>\n",
       "    <tr style=\"text-align: right;\">\n",
       "      <th></th>\n",
       "      <th>name</th>\n",
       "      <th>categories</th>\n",
       "    </tr>\n",
       "  </thead>\n",
       "  <tbody>\n",
       "    <tr>\n",
       "      <th>0</th>\n",
       "      <td>Philthy Phillys</td>\n",
       "      <td>Restaurants, Cheesesteaks, Poutineries</td>\n",
       "    </tr>\n",
       "    <tr>\n",
       "      <th>1</th>\n",
       "      <td>Mi Mi Restaurant</td>\n",
       "      <td>Vietnamese, Restaurants</td>\n",
       "    </tr>\n",
       "    <tr>\n",
       "      <th>2</th>\n",
       "      <td>The Market by Longo's</td>\n",
       "      <td>Food, Grocery</td>\n",
       "    </tr>\n",
       "    <tr>\n",
       "      <th>3</th>\n",
       "      <td>GIG@bites Internet Cafe</td>\n",
       "      <td>Home Services, Shopping, IT Services &amp; Compute...</td>\n",
       "    </tr>\n",
       "    <tr>\n",
       "      <th>4</th>\n",
       "      <td>Tim Hortons</td>\n",
       "      <td>Cafes, Donuts, Food, Coffee &amp; Tea, Restaurants</td>\n",
       "    </tr>\n",
       "  </tbody>\n",
       "</table>\n",
       "</div>"
      ],
      "text/plain": [
       "                      name                                         categories\n",
       "0          Philthy Phillys             Restaurants, Cheesesteaks, Poutineries\n",
       "1         Mi Mi Restaurant                            Vietnamese, Restaurants\n",
       "2    The Market by Longo's                                      Food, Grocery\n",
       "3  GIG@bites Internet Cafe  Home Services, Shopping, IT Services & Compute...\n",
       "4              Tim Hortons     Cafes, Donuts, Food, Coffee & Tea, Restaurants"
      ]
     },
     "execution_count": 187,
     "metadata": {},
     "output_type": "execute_result"
    }
   ],
   "source": [
    "business_df.head()"
   ]
  },
  {
   "cell_type": "markdown",
   "metadata": {},
   "source": [
    "**Finding out the total number of unique Users and Businesses in our Dataset**"
   ]
  },
  {
   "cell_type": "code",
   "execution_count": 59,
   "metadata": {},
   "outputs": [
    {
     "data": {
      "text/plain": [
       "(18328, 939)"
      ]
     },
     "execution_count": 59,
     "metadata": {},
     "output_type": "execute_result"
    }
   ],
   "source": [
    "nusers = df.user_id.nunique()\n",
    "nbusinesses = df.business_id.nunique()\n",
    "nusers, nbusinesses"
   ]
  },
  {
   "cell_type": "code",
   "execution_count": 60,
   "metadata": {},
   "outputs": [
    {
     "data": {
      "text/plain": [
       "(18328, 939)"
      ]
     },
     "execution_count": 60,
     "metadata": {},
     "output_type": "execute_result"
    }
   ],
   "source": [
    "print(f\"The total number of unique Users :{nusers}\")\n",
    "print(f\"The total number of unique Businesses :{nbusinesses}\")"
   ]
  },
  {
   "cell_type": "markdown",
   "metadata": {},
   "source": [
    "## Setting up the Model"
   ]
  },
  {
   "cell_type": "markdown",
   "metadata": {},
   "source": [
    "### Train-test split"
   ]
  },
  {
   "cell_type": "markdown",
   "metadata": {},
   "source": [
    "**We divided our data into Training , Validation and Testing datasets in the following ratio :**\n",
    "\n",
    "| Data Type | Percentage|\n",
    "| --- | --- |\n",
    "| Training | 60% |\n",
    "| Validation | 20% |\n",
    "| Test | 20% |"
   ]
  },
  {
   "cell_type": "code",
   "execution_count": 61,
   "metadata": {},
   "outputs": [],
   "source": [
    "from sklearn.model_selection import train_test_split\n",
    "np.random.seed=2017"
   ]
  },
  {
   "cell_type": "markdown",
   "metadata": {},
   "source": [
    "**Step-1) Dividing Data into Train and Test sets**"
   ]
  },
  {
   "cell_type": "code",
   "execution_count": 62,
   "metadata": {},
   "outputs": [
    {
     "data": {
      "text/plain": [
       "(6157, 3)"
      ]
     },
     "execution_count": 62,
     "metadata": {},
     "output_type": "execute_result"
    }
   ],
   "source": [
    "train_indices, test_indices = train_test_split(range(df.shape[0]), test_size=0.20)\n",
    "trdf1 = df.iloc[train_indices]\n",
    "testdf = df.iloc[test_indices]\n",
    "\n",
    "print(f\" The size of our test data :{testdf.shape}\")"
   ]
  },
  {
   "cell_type": "markdown",
   "metadata": {},
   "source": [
    "**Step-2) We further divide Train Data into Train and Validation sets**"
   ]
  },
  {
   "cell_type": "code",
   "execution_count": 63,
   "metadata": {},
   "outputs": [
    {
     "data": {
      "text/plain": [
       "((18469, 3), (6157, 3))"
      ]
     },
     "execution_count": 63,
     "metadata": {},
     "output_type": "execute_result"
    }
   ],
   "source": [
    "train_indices, val_indices = train_test_split(range(trdf1.shape[0]), test_size=0.25)# 0.25 x 0.8 = 0.2\n",
    "trdf = trdf1.iloc[train_indices]\n",
    "valdf = trdf1.iloc[val_indices]\n",
    "\n",
    "print(f\" The size of our Training data :{trdf.shape}\")\n",
    "print(f\" The size of our Validation data :{valdf.shape}\")"
   ]
  },
  {
   "cell_type": "code",
   "execution_count": 65,
   "metadata": {},
   "outputs": [
    {
     "data": {
      "text/html": [
       "<div>\n",
       "<style scoped>\n",
       "    .dataframe tbody tr th:only-of-type {\n",
       "        vertical-align: middle;\n",
       "    }\n",
       "\n",
       "    .dataframe tbody tr th {\n",
       "        vertical-align: top;\n",
       "    }\n",
       "\n",
       "    .dataframe thead th {\n",
       "        text-align: right;\n",
       "    }\n",
       "</style>\n",
       "<table border=\"1\" class=\"dataframe\">\n",
       "  <thead>\n",
       "    <tr style=\"text-align: right;\">\n",
       "      <th></th>\n",
       "      <th>user_id</th>\n",
       "      <th>business_id</th>\n",
       "      <th>stars</th>\n",
       "    </tr>\n",
       "  </thead>\n",
       "  <tbody>\n",
       "    <tr>\n",
       "      <th>30619</th>\n",
       "      <td>4807</td>\n",
       "      <td>826</td>\n",
       "      <td>3</td>\n",
       "    </tr>\n",
       "    <tr>\n",
       "      <th>89</th>\n",
       "      <td>89</td>\n",
       "      <td>84</td>\n",
       "      <td>4</td>\n",
       "    </tr>\n",
       "    <tr>\n",
       "      <th>9678</th>\n",
       "      <td>7276</td>\n",
       "      <td>104</td>\n",
       "      <td>4</td>\n",
       "    </tr>\n",
       "    <tr>\n",
       "      <th>7052</th>\n",
       "      <td>5552</td>\n",
       "      <td>160</td>\n",
       "      <td>4</td>\n",
       "    </tr>\n",
       "    <tr>\n",
       "      <th>10439</th>\n",
       "      <td>7750</td>\n",
       "      <td>208</td>\n",
       "      <td>1</td>\n",
       "    </tr>\n",
       "  </tbody>\n",
       "</table>\n",
       "</div>"
      ],
      "text/plain": [
       "       user_id  business_id  stars\n",
       "30619     4807          826      3\n",
       "89          89           84      4\n",
       "9678      7276          104      4\n",
       "7052      5552          160      4\n",
       "10439     7750          208      1"
      ]
     },
     "execution_count": 65,
     "metadata": {},
     "output_type": "execute_result"
    }
   ],
   "source": [
    "trdf.head()"
   ]
  },
  {
   "cell_type": "code",
   "execution_count": 66,
   "metadata": {},
   "outputs": [
    {
     "data": {
      "text/html": [
       "<div>\n",
       "<style scoped>\n",
       "    .dataframe tbody tr th:only-of-type {\n",
       "        vertical-align: middle;\n",
       "    }\n",
       "\n",
       "    .dataframe tbody tr th {\n",
       "        vertical-align: top;\n",
       "    }\n",
       "\n",
       "    .dataframe thead th {\n",
       "        text-align: right;\n",
       "    }\n",
       "</style>\n",
       "<table border=\"1\" class=\"dataframe\">\n",
       "  <thead>\n",
       "    <tr style=\"text-align: right;\">\n",
       "      <th></th>\n",
       "      <th>user_id</th>\n",
       "      <th>business_id</th>\n",
       "      <th>stars</th>\n",
       "    </tr>\n",
       "  </thead>\n",
       "  <tbody>\n",
       "    <tr>\n",
       "      <th>139</th>\n",
       "      <td>139</td>\n",
       "      <td>115</td>\n",
       "      <td>3</td>\n",
       "    </tr>\n",
       "    <tr>\n",
       "      <th>19870</th>\n",
       "      <td>13007</td>\n",
       "      <td>89</td>\n",
       "      <td>3</td>\n",
       "    </tr>\n",
       "    <tr>\n",
       "      <th>25562</th>\n",
       "      <td>10149</td>\n",
       "      <td>208</td>\n",
       "      <td>4</td>\n",
       "    </tr>\n",
       "    <tr>\n",
       "      <th>22838</th>\n",
       "      <td>14527</td>\n",
       "      <td>363</td>\n",
       "      <td>3</td>\n",
       "    </tr>\n",
       "    <tr>\n",
       "      <th>12664</th>\n",
       "      <td>3112</td>\n",
       "      <td>133</td>\n",
       "      <td>4</td>\n",
       "    </tr>\n",
       "  </tbody>\n",
       "</table>\n",
       "</div>"
      ],
      "text/plain": [
       "       user_id  business_id  stars\n",
       "139        139          115      3\n",
       "19870    13007           89      3\n",
       "25562    10149          208      4\n",
       "22838    14527          363      3\n",
       "12664     3112          133      4"
      ]
     },
     "execution_count": 66,
     "metadata": {},
     "output_type": "execute_result"
    }
   ],
   "source": [
    "valdf.head()"
   ]
  },
  {
   "cell_type": "code",
   "execution_count": 67,
   "metadata": {},
   "outputs": [
    {
     "name": "stdout",
     "output_type": "stream",
     "text": [
      "2.4.1\n"
     ]
    }
   ],
   "source": [
    "import tensorflow.keras as keras\n",
    "import tensorflow as tf\n",
    "print(tf.__version__)"
   ]
  },
  {
   "cell_type": "code",
   "execution_count": 68,
   "metadata": {},
   "outputs": [],
   "source": [
    "from tensorflow.keras.layers import Input, Embedding, Add, Dot, Flatten\n",
    "from tensorflow.keras import Model\n",
    "from tensorflow.keras.regularizers import l2\n",
    "from tensorflow.keras.optimizers import Adam"
   ]
  },
  {
   "cell_type": "markdown",
   "metadata": {},
   "source": [
    "**We then set our hypeparameters, the size of the latent factors or the embeddings,  and the amount of regularization.**"
   ]
  },
  {
   "cell_type": "code",
   "execution_count": 69,
   "metadata": {},
   "outputs": [],
   "source": [
    "L = 50"
   ]
  },
  {
   "cell_type": "code",
   "execution_count": 70,
   "metadata": {},
   "outputs": [],
   "source": [
    "REG=5e-4"
   ]
  },
  {
   "cell_type": "markdown",
   "metadata": {},
   "source": [
    "**Function to return us a bias layer:**"
   ]
  },
  {
   "cell_type": "code",
   "execution_count": 71,
   "metadata": {},
   "outputs": [],
   "source": [
    "def create_bias(name, inp, n_in, reg):\n",
    "    x = Embedding(n_in, 1, input_length=1, name=name)(inp)\n",
    "    return Flatten(name=name+'_flat')(x)"
   ]
  },
  {
   "cell_type": "markdown",
   "metadata": {},
   "source": [
    "**Function to set us up an embedding layer:**"
   ]
  },
  {
   "cell_type": "code",
   "execution_count": 72,
   "metadata": {},
   "outputs": [],
   "source": [
    "def embedding_input(name, n_in, n_out, reg):\n",
    "    inp = Input(shape=(1,), dtype='int64', name=name)\n",
    "    return inp, Embedding(n_in, n_out, input_length=1, name=name.split('_')[0]+'_factor', embeddings_regularizer=l2(reg))(inp)"
   ]
  },
  {
   "cell_type": "markdown",
   "metadata": {},
   "source": [
    "*This function will return input layers which we will use as placeholders for our inputs, which are the **user_id** and **business_id** that are used as indexes into the embedding to get the latent factors for a particular user or a business.*"
   ]
  },
  {
   "cell_type": "markdown",
   "metadata": {},
   "source": [
    "**Definining Embeddings and Biases**"
   ]
  },
  {
   "cell_type": "code",
   "execution_count": 73,
   "metadata": {},
   "outputs": [],
   "source": [
    "user_input, uLmat = embedding_input('user_input', nusers, L, REG)\n",
    "business_input, mLmat = embedding_input('business_input', nbusinesses, L, REG)"
   ]
  },
  {
   "cell_type": "markdown",
   "metadata": {},
   "source": [
    "User input is a placeholder for user_id and business_id"
   ]
  },
  {
   "cell_type": "code",
   "execution_count": 74,
   "metadata": {},
   "outputs": [
    {
     "data": {
      "text/plain": [
       "(TensorShape([None, 1]), TensorShape([None, 1]))"
      ]
     },
     "execution_count": 74,
     "metadata": {},
     "output_type": "execute_result"
    }
   ],
   "source": [
    "user_input.shape, business_input.shape"
   ]
  },
  {
   "cell_type": "code",
   "execution_count": 75,
   "metadata": {},
   "outputs": [
    {
     "data": {
      "text/plain": [
       "(TensorShape([None, 1, 50]), TensorShape([None, 1, 50]))"
      ]
     },
     "execution_count": 75,
     "metadata": {},
     "output_type": "execute_result"
    }
   ],
   "source": [
    "uLmat.shape, mLmat.shape"
   ]
  },
  {
   "cell_type": "code",
   "execution_count": 76,
   "metadata": {},
   "outputs": [],
   "source": [
    "user_bias = create_bias('user_bias', user_input, nusers, REG)\n",
    "business_bias = create_bias('business_bias', business_input, nbusinesses, REG)"
   ]
  },
  {
   "cell_type": "code",
   "execution_count": 77,
   "metadata": {},
   "outputs": [
    {
     "data": {
      "text/plain": [
       "(TensorShape([None, 1]), TensorShape([None, 1]))"
      ]
     },
     "execution_count": 77,
     "metadata": {},
     "output_type": "execute_result"
    }
   ],
   "source": [
    "user_bias.shape, business_bias.shape"
   ]
  },
  {
   "cell_type": "markdown",
   "metadata": {},
   "source": [
    "**These embeddings are matrix multiplied together (dot producted together) to get the residual matrix, which is then flattened.**"
   ]
  },
  {
   "cell_type": "code",
   "execution_count": 78,
   "metadata": {},
   "outputs": [],
   "source": [
    "residual = Dot(axes=2, name=\"residual\")([uLmat, mLmat])"
   ]
  },
  {
   "cell_type": "code",
   "execution_count": 79,
   "metadata": {},
   "outputs": [
    {
     "data": {
      "text/plain": [
       "TensorShape([None, 1, 1])"
      ]
     },
     "execution_count": 79,
     "metadata": {},
     "output_type": "execute_result"
    }
   ],
   "source": [
    "residual.shape"
   ]
  },
  {
   "cell_type": "code",
   "execution_count": 80,
   "metadata": {},
   "outputs": [
    {
     "data": {
      "text/plain": [
       "TensorShape([None, 1])"
      ]
     },
     "execution_count": 80,
     "metadata": {},
     "output_type": "execute_result"
    }
   ],
   "source": [
    "residflat = Flatten(name=\"residual_flat\")(residual)\n",
    "residflat.shape"
   ]
  },
  {
   "cell_type": "markdown",
   "metadata": {},
   "source": [
    "**The flattened residual and the biases are added into the linear regression**"
   ]
  },
  {
   "cell_type": "code",
   "execution_count": 81,
   "metadata": {},
   "outputs": [],
   "source": [
    "regression = Add(name=\"regression\")([user_bias, business_bias, residflat])"
   ]
  },
  {
   "cell_type": "code",
   "execution_count": 82,
   "metadata": {},
   "outputs": [
    {
     "data": {
      "text/plain": [
       "TensorShape([None, 1])"
      ]
     },
     "execution_count": 82,
     "metadata": {},
     "output_type": "execute_result"
    }
   ],
   "source": [
    "regression.shape"
   ]
  },
  {
   "cell_type": "markdown",
   "metadata": {},
   "source": [
    "***We then want to limit our ratings between between 0 and 5.5.***\n",
    "\n",
    "***This is accomplished by using a sigmoid after the regression part, by scaling the sigmoid to the required range(0 and 5.5)***\n",
    "\n",
    "***This is done to avoid letting our regression function go outside of the rating scale.(i.e. 0 to 5)***"
   ]
  },
  {
   "cell_type": "code",
   "execution_count": 83,
   "metadata": {},
   "outputs": [],
   "source": [
    "from tensorflow.keras.layers import Activation\n",
    "from tensorflow.keras import backend as K"
   ]
  },
  {
   "cell_type": "code",
   "execution_count": 84,
   "metadata": {},
   "outputs": [],
   "source": [
    "def sigmoid_maker(low, high):\n",
    "    def custom_sigmoid(x):\n",
    "        return K.sigmoid(x)*(high - low) + low\n",
    "    return custom_sigmoid"
   ]
  },
  {
   "cell_type": "code",
   "execution_count": 85,
   "metadata": {},
   "outputs": [],
   "source": [
    "cs = sigmoid_maker(0, 5.5)"
   ]
  },
  {
   "cell_type": "code",
   "execution_count": 86,
   "metadata": {},
   "outputs": [],
   "source": [
    "output = Activation(cs, name=\"Sigmoid_Range\")(regression)"
   ]
  },
  {
   "cell_type": "markdown",
   "metadata": {},
   "source": [
    "**Our model is then set up with the userids and businessids as input, and the output of the sigmoid as output.**"
   ]
  },
  {
   "cell_type": "markdown",
   "metadata": {},
   "source": [
    "**It is compiled with SGD and a learning rate of 0.001.**"
   ]
  },
  {
   "cell_type": "code",
   "execution_count": 201,
   "metadata": {},
   "outputs": [],
   "source": [
    "model = Model([user_input, business_input], output)\n",
    "model.compile(optimizer = 'sgd', loss='mse')"
   ]
  },
  {
   "cell_type": "code",
   "execution_count": 202,
   "metadata": {},
   "outputs": [
    {
     "name": "stdout",
     "output_type": "stream",
     "text": [
      "Model: \"model_2\"\n",
      "__________________________________________________________________________________________________\n",
      "Layer (type)                    Output Shape         Param #     Connected to                     \n",
      "==================================================================================================\n",
      "user_input (InputLayer)         [(None, 1)]          0                                            \n",
      "__________________________________________________________________________________________________\n",
      "business_input (InputLayer)     [(None, 1)]          0                                            \n",
      "__________________________________________________________________________________________________\n",
      "user_factor (Embedding)         (None, 1, 50)        916400      user_input[0][0]                 \n",
      "__________________________________________________________________________________________________\n",
      "business_factor (Embedding)     (None, 1, 50)        46950       business_input[0][0]             \n",
      "__________________________________________________________________________________________________\n",
      "user_bias (Embedding)           (None, 1, 1)         18328       user_input[0][0]                 \n",
      "__________________________________________________________________________________________________\n",
      "business_bias (Embedding)       (None, 1, 1)         939         business_input[0][0]             \n",
      "__________________________________________________________________________________________________\n",
      "residual (Dot)                  (None, 1, 1)         0           user_factor[0][0]                \n",
      "                                                                 business_factor[0][0]            \n",
      "__________________________________________________________________________________________________\n",
      "user_bias_flat (Flatten)        (None, 1)            0           user_bias[0][0]                  \n",
      "__________________________________________________________________________________________________\n",
      "business_bias_flat (Flatten)    (None, 1)            0           business_bias[0][0]              \n",
      "__________________________________________________________________________________________________\n",
      "residual_flat (Flatten)         (None, 1)            0           residual[0][0]                   \n",
      "__________________________________________________________________________________________________\n",
      "regression (Add)                (None, 1)            0           user_bias_flat[0][0]             \n",
      "                                                                 business_bias_flat[0][0]         \n",
      "                                                                 residual_flat[0][0]              \n",
      "__________________________________________________________________________________________________\n",
      "Sigmoid_Range (Activation)      (None, 1)            0           regression[0][0]                 \n",
      "==================================================================================================\n",
      "Total params: 982,617\n",
      "Trainable params: 982,617\n",
      "Non-trainable params: 0\n",
      "__________________________________________________________________________________________________\n"
     ]
    }
   ],
   "source": [
    "model.summary()"
   ]
  },
  {
   "cell_type": "markdown",
   "metadata": {},
   "source": [
    "**We use the Keras functional API as we have two beginning points that need\n",
    "merging :**\n",
    "    \n",
    "    \n",
    "   * ***User_id input layer***\n",
    "\n",
    "   * ***Business_id input layer***"
   ]
  },
  {
   "cell_type": "code",
   "execution_count": 203,
   "metadata": {},
   "outputs": [],
   "source": [
    "import pydot"
   ]
  },
  {
   "cell_type": "code",
   "execution_count": 90,
   "metadata": {},
   "outputs": [],
   "source": [
    "from tensorflow.keras.utils import model_to_dot"
   ]
  },
  {
   "cell_type": "code",
   "execution_count": 204,
   "metadata": {},
   "outputs": [
    {
     "data": {
      "image/svg+xml": [
       "<svg height=\"470pt\" viewBox=\"0.00 0.00 955.50 470.00\" width=\"956pt\" xmlns=\"http://www.w3.org/2000/svg\" xmlns:xlink=\"http://www.w3.org/1999/xlink\">\n",
       "<g class=\"graph\" id=\"graph0\" transform=\"scale(1 1) rotate(0) translate(4 466)\">\n",
       "<title>G</title>\n",
       "<polygon fill=\"#ffffff\" points=\"-4,4 -4,-466 951.5,-466 951.5,4 -4,4\" stroke=\"transparent\"/>\n",
       "<!-- 140210116327312 -->\n",
       "<g class=\"node\" id=\"node1\">\n",
       "<title>140210116327312</title>\n",
       "<polygon fill=\"none\" points=\"70,-415.5 70,-461.5 344,-461.5 344,-415.5 70,-415.5\" stroke=\"#000000\"/>\n",
       "<text fill=\"#000000\" font-family=\"Times,serif\" font-size=\"14.00\" text-anchor=\"middle\" x=\"140.5\" y=\"-434.8\">user_input: InputLayer</text>\n",
       "<polyline fill=\"none\" points=\"211,-415.5 211,-461.5 \" stroke=\"#000000\"/>\n",
       "<text fill=\"#000000\" font-family=\"Times,serif\" font-size=\"14.00\" text-anchor=\"middle\" x=\"238.5\" y=\"-446.3\">input:</text>\n",
       "<polyline fill=\"none\" points=\"211,-438.5 266,-438.5 \" stroke=\"#000000\"/>\n",
       "<text fill=\"#000000\" font-family=\"Times,serif\" font-size=\"14.00\" text-anchor=\"middle\" x=\"238.5\" y=\"-423.3\">output:</text>\n",
       "<polyline fill=\"none\" points=\"266,-415.5 266,-461.5 \" stroke=\"#000000\"/>\n",
       "<text fill=\"#000000\" font-family=\"Times,serif\" font-size=\"14.00\" text-anchor=\"middle\" x=\"305\" y=\"-446.3\">[(None, 1)]</text>\n",
       "<polyline fill=\"none\" points=\"266,-438.5 344,-438.5 \" stroke=\"#000000\"/>\n",
       "<text fill=\"#000000\" font-family=\"Times,serif\" font-size=\"14.00\" text-anchor=\"middle\" x=\"305\" y=\"-423.3\">[(None, 1)]</text>\n",
       "</g>\n",
       "<!-- 140210116439184 -->\n",
       "<g class=\"node\" id=\"node3\">\n",
       "<title>140210116439184</title>\n",
       "<polygon fill=\"none\" points=\"147.5,-332.5 147.5,-378.5 440.5,-378.5 440.5,-332.5 147.5,-332.5\" stroke=\"#000000\"/>\n",
       "<text fill=\"#000000\" font-family=\"Times,serif\" font-size=\"14.00\" text-anchor=\"middle\" x=\"221.5\" y=\"-351.8\">user_factor: Embedding</text>\n",
       "<polyline fill=\"none\" points=\"295.5,-332.5 295.5,-378.5 \" stroke=\"#000000\"/>\n",
       "<text fill=\"#000000\" font-family=\"Times,serif\" font-size=\"14.00\" text-anchor=\"middle\" x=\"323\" y=\"-363.3\">input:</text>\n",
       "<polyline fill=\"none\" points=\"295.5,-355.5 350.5,-355.5 \" stroke=\"#000000\"/>\n",
       "<text fill=\"#000000\" font-family=\"Times,serif\" font-size=\"14.00\" text-anchor=\"middle\" x=\"323\" y=\"-340.3\">output:</text>\n",
       "<polyline fill=\"none\" points=\"350.5,-332.5 350.5,-378.5 \" stroke=\"#000000\"/>\n",
       "<text fill=\"#000000\" font-family=\"Times,serif\" font-size=\"14.00\" text-anchor=\"middle\" x=\"395.5\" y=\"-363.3\">(None, 1)</text>\n",
       "<polyline fill=\"none\" points=\"350.5,-355.5 440.5,-355.5 \" stroke=\"#000000\"/>\n",
       "<text fill=\"#000000\" font-family=\"Times,serif\" font-size=\"14.00\" text-anchor=\"middle\" x=\"395.5\" y=\"-340.3\">(None, 1, 50)</text>\n",
       "</g>\n",
       "<!-- 140210116327312&#45;&gt;140210116439184 -->\n",
       "<g class=\"edge\" id=\"edge1\">\n",
       "<title>140210116327312-&gt;140210116439184</title>\n",
       "<path d=\"M231.2344,-415.3799C240.8635,-406.1935 252.0709,-395.5013 262.3286,-385.7152\" fill=\"none\" stroke=\"#000000\"/>\n",
       "<polygon fill=\"#000000\" points=\"264.7744,-388.2192 269.5939,-378.784 259.9424,-383.1544 264.7744,-388.2192\" stroke=\"#000000\"/>\n",
       "</g>\n",
       "<!-- 140210083495888 -->\n",
       "<g class=\"node\" id=\"node5\">\n",
       "<title>140210083495888</title>\n",
       "<polygon fill=\"none\" points=\"0,-249.5 0,-295.5 276,-295.5 276,-249.5 0,-249.5\" stroke=\"#000000\"/>\n",
       "<text fill=\"#000000\" font-family=\"Times,serif\" font-size=\"14.00\" text-anchor=\"middle\" x=\"69\" y=\"-268.8\">user_bias: Embedding</text>\n",
       "<polyline fill=\"none\" points=\"138,-249.5 138,-295.5 \" stroke=\"#000000\"/>\n",
       "<text fill=\"#000000\" font-family=\"Times,serif\" font-size=\"14.00\" text-anchor=\"middle\" x=\"165.5\" y=\"-280.3\">input:</text>\n",
       "<polyline fill=\"none\" points=\"138,-272.5 193,-272.5 \" stroke=\"#000000\"/>\n",
       "<text fill=\"#000000\" font-family=\"Times,serif\" font-size=\"14.00\" text-anchor=\"middle\" x=\"165.5\" y=\"-257.3\">output:</text>\n",
       "<polyline fill=\"none\" points=\"193,-249.5 193,-295.5 \" stroke=\"#000000\"/>\n",
       "<text fill=\"#000000\" font-family=\"Times,serif\" font-size=\"14.00\" text-anchor=\"middle\" x=\"234.5\" y=\"-280.3\">(None, 1)</text>\n",
       "<polyline fill=\"none\" points=\"193,-272.5 276,-272.5 \" stroke=\"#000000\"/>\n",
       "<text fill=\"#000000\" font-family=\"Times,serif\" font-size=\"14.00\" text-anchor=\"middle\" x=\"234.5\" y=\"-257.3\">(None, 1, 1)</text>\n",
       "</g>\n",
       "<!-- 140210116327312&#45;&gt;140210083495888 -->\n",
       "<g class=\"edge\" id=\"edge3\">\n",
       "<title>140210116327312-&gt;140210083495888</title>\n",
       "<path d=\"M169.0639,-415.4501C156.7979,-405.8496 144.6541,-393.5244 138,-379 127.5435,-356.1758 128.1792,-327.6028 131.0821,-305.8002\" fill=\"none\" stroke=\"#000000\"/>\n",
       "<polygon fill=\"#000000\" points=\"134.5752,-306.1143 132.6507,-295.6958 127.6581,-305.0405 134.5752,-306.1143\" stroke=\"#000000\"/>\n",
       "</g>\n",
       "<!-- 140210116327184 -->\n",
       "<g class=\"node\" id=\"node2\">\n",
       "<title>140210116327184</title>\n",
       "<polygon fill=\"none\" points=\"561.5,-415.5 561.5,-461.5 858.5,-461.5 858.5,-415.5 561.5,-415.5\" stroke=\"#000000\"/>\n",
       "<text fill=\"#000000\" font-family=\"Times,serif\" font-size=\"14.00\" text-anchor=\"middle\" x=\"643.5\" y=\"-434.8\">business_input: InputLayer</text>\n",
       "<polyline fill=\"none\" points=\"725.5,-415.5 725.5,-461.5 \" stroke=\"#000000\"/>\n",
       "<text fill=\"#000000\" font-family=\"Times,serif\" font-size=\"14.00\" text-anchor=\"middle\" x=\"753\" y=\"-446.3\">input:</text>\n",
       "<polyline fill=\"none\" points=\"725.5,-438.5 780.5,-438.5 \" stroke=\"#000000\"/>\n",
       "<text fill=\"#000000\" font-family=\"Times,serif\" font-size=\"14.00\" text-anchor=\"middle\" x=\"753\" y=\"-423.3\">output:</text>\n",
       "<polyline fill=\"none\" points=\"780.5,-415.5 780.5,-461.5 \" stroke=\"#000000\"/>\n",
       "<text fill=\"#000000\" font-family=\"Times,serif\" font-size=\"14.00\" text-anchor=\"middle\" x=\"819.5\" y=\"-446.3\">[(None, 1)]</text>\n",
       "<polyline fill=\"none\" points=\"780.5,-438.5 858.5,-438.5 \" stroke=\"#000000\"/>\n",
       "<text fill=\"#000000\" font-family=\"Times,serif\" font-size=\"14.00\" text-anchor=\"middle\" x=\"819.5\" y=\"-423.3\">[(None, 1)]</text>\n",
       "</g>\n",
       "<!-- 140210100612560 -->\n",
       "<g class=\"node\" id=\"node4\">\n",
       "<title>140210100612560</title>\n",
       "<polygon fill=\"none\" points=\"459,-332.5 459,-378.5 775,-378.5 775,-332.5 459,-332.5\" stroke=\"#000000\"/>\n",
       "<text fill=\"#000000\" font-family=\"Times,serif\" font-size=\"14.00\" text-anchor=\"middle\" x=\"544.5\" y=\"-351.8\">business_factor: Embedding</text>\n",
       "<polyline fill=\"none\" points=\"630,-332.5 630,-378.5 \" stroke=\"#000000\"/>\n",
       "<text fill=\"#000000\" font-family=\"Times,serif\" font-size=\"14.00\" text-anchor=\"middle\" x=\"657.5\" y=\"-363.3\">input:</text>\n",
       "<polyline fill=\"none\" points=\"630,-355.5 685,-355.5 \" stroke=\"#000000\"/>\n",
       "<text fill=\"#000000\" font-family=\"Times,serif\" font-size=\"14.00\" text-anchor=\"middle\" x=\"657.5\" y=\"-340.3\">output:</text>\n",
       "<polyline fill=\"none\" points=\"685,-332.5 685,-378.5 \" stroke=\"#000000\"/>\n",
       "<text fill=\"#000000\" font-family=\"Times,serif\" font-size=\"14.00\" text-anchor=\"middle\" x=\"730\" y=\"-363.3\">(None, 1)</text>\n",
       "<polyline fill=\"none\" points=\"685,-355.5 775,-355.5 \" stroke=\"#000000\"/>\n",
       "<text fill=\"#000000\" font-family=\"Times,serif\" font-size=\"14.00\" text-anchor=\"middle\" x=\"730\" y=\"-340.3\">(None, 1, 50)</text>\n",
       "</g>\n",
       "<!-- 140210116327184&#45;&gt;140210100612560 -->\n",
       "<g class=\"edge\" id=\"edge2\">\n",
       "<title>140210116327184-&gt;140210100612560</title>\n",
       "<path d=\"M684.0943,-415.3799C673.8011,-406.1935 661.8208,-395.5013 650.8556,-385.7152\" fill=\"none\" stroke=\"#000000\"/>\n",
       "<polygon fill=\"#000000\" points=\"652.8806,-382.8313 643.0893,-378.784 648.2196,-388.0539 652.8806,-382.8313\" stroke=\"#000000\"/>\n",
       "</g>\n",
       "<!-- 140210116325968 -->\n",
       "<g class=\"node\" id=\"node6\">\n",
       "<title>140210116325968</title>\n",
       "<polygon fill=\"none\" points=\"648.5,-249.5 648.5,-295.5 947.5,-295.5 947.5,-249.5 648.5,-249.5\" stroke=\"#000000\"/>\n",
       "<text fill=\"#000000\" font-family=\"Times,serif\" font-size=\"14.00\" text-anchor=\"middle\" x=\"729\" y=\"-268.8\">business_bias: Embedding</text>\n",
       "<polyline fill=\"none\" points=\"809.5,-249.5 809.5,-295.5 \" stroke=\"#000000\"/>\n",
       "<text fill=\"#000000\" font-family=\"Times,serif\" font-size=\"14.00\" text-anchor=\"middle\" x=\"837\" y=\"-280.3\">input:</text>\n",
       "<polyline fill=\"none\" points=\"809.5,-272.5 864.5,-272.5 \" stroke=\"#000000\"/>\n",
       "<text fill=\"#000000\" font-family=\"Times,serif\" font-size=\"14.00\" text-anchor=\"middle\" x=\"837\" y=\"-257.3\">output:</text>\n",
       "<polyline fill=\"none\" points=\"864.5,-249.5 864.5,-295.5 \" stroke=\"#000000\"/>\n",
       "<text fill=\"#000000\" font-family=\"Times,serif\" font-size=\"14.00\" text-anchor=\"middle\" x=\"906\" y=\"-280.3\">(None, 1)</text>\n",
       "<polyline fill=\"none\" points=\"864.5,-272.5 947.5,-272.5 \" stroke=\"#000000\"/>\n",
       "<text fill=\"#000000\" font-family=\"Times,serif\" font-size=\"14.00\" text-anchor=\"middle\" x=\"906\" y=\"-257.3\">(None, 1, 1)</text>\n",
       "</g>\n",
       "<!-- 140210116327184&#45;&gt;140210116325968 -->\n",
       "<g class=\"edge\" id=\"edge4\">\n",
       "<title>140210116327184-&gt;140210116325968</title>\n",
       "<path d=\"M749.56,-415.4383C762.6011,-405.8366 775.8407,-393.5136 784,-379 796.4873,-356.7878 799.6328,-327.9463 799.8514,-305.8803\" fill=\"none\" stroke=\"#000000\"/>\n",
       "<polygon fill=\"#000000\" points=\"803.3491,-305.6164 799.7517,-295.651 796.3495,-305.6846 803.3491,-305.6164\" stroke=\"#000000\"/>\n",
       "</g>\n",
       "<!-- 140210083556432 -->\n",
       "<g class=\"node\" id=\"node7\">\n",
       "<title>140210083556432</title>\n",
       "<polygon fill=\"none\" points=\"303,-249.5 303,-295.5 625,-295.5 625,-249.5 303,-249.5\" stroke=\"#000000\"/>\n",
       "<text fill=\"#000000\" font-family=\"Times,serif\" font-size=\"14.00\" text-anchor=\"middle\" x=\"346.5\" y=\"-268.8\">residual: Dot</text>\n",
       "<polyline fill=\"none\" points=\"390,-249.5 390,-295.5 \" stroke=\"#000000\"/>\n",
       "<text fill=\"#000000\" font-family=\"Times,serif\" font-size=\"14.00\" text-anchor=\"middle\" x=\"417.5\" y=\"-280.3\">input:</text>\n",
       "<polyline fill=\"none\" points=\"390,-272.5 445,-272.5 \" stroke=\"#000000\"/>\n",
       "<text fill=\"#000000\" font-family=\"Times,serif\" font-size=\"14.00\" text-anchor=\"middle\" x=\"417.5\" y=\"-257.3\">output:</text>\n",
       "<polyline fill=\"none\" points=\"445,-249.5 445,-295.5 \" stroke=\"#000000\"/>\n",
       "<text fill=\"#000000\" font-family=\"Times,serif\" font-size=\"14.00\" text-anchor=\"middle\" x=\"535\" y=\"-280.3\">[(None, 1, 50), (None, 1, 50)]</text>\n",
       "<polyline fill=\"none\" points=\"445,-272.5 625,-272.5 \" stroke=\"#000000\"/>\n",
       "<text fill=\"#000000\" font-family=\"Times,serif\" font-size=\"14.00\" text-anchor=\"middle\" x=\"535\" y=\"-257.3\">(None, 1, 1)</text>\n",
       "</g>\n",
       "<!-- 140210116439184&#45;&gt;140210083556432 -->\n",
       "<g class=\"edge\" id=\"edge5\">\n",
       "<title>140210116439184-&gt;140210083556432</title>\n",
       "<path d=\"M341.3545,-332.3799C361.9,-322.3488 386.1229,-310.5224 407.5915,-300.0406\" fill=\"none\" stroke=\"#000000\"/>\n",
       "<polygon fill=\"#000000\" points=\"409.1544,-303.1725 416.6049,-295.6399 406.0832,-296.8822 409.1544,-303.1725\" stroke=\"#000000\"/>\n",
       "</g>\n",
       "<!-- 140210100612560&#45;&gt;140210083556432 -->\n",
       "<g class=\"edge\" id=\"edge6\">\n",
       "<title>140210100612560-&gt;140210083556432</title>\n",
       "<path d=\"M574.381,-332.3799C556.1376,-322.4832 534.6727,-310.8388 515.5453,-300.4625\" fill=\"none\" stroke=\"#000000\"/>\n",
       "<polygon fill=\"#000000\" points=\"517.1144,-297.3319 506.6556,-295.6399 513.7765,-303.4849 517.1144,-297.3319\" stroke=\"#000000\"/>\n",
       "</g>\n",
       "<!-- 140210083490640 -->\n",
       "<g class=\"node\" id=\"node8\">\n",
       "<title>140210083490640</title>\n",
       "<polygon fill=\"none\" points=\"19.5,-166.5 19.5,-212.5 294.5,-212.5 294.5,-166.5 19.5,-166.5\" stroke=\"#000000\"/>\n",
       "<text fill=\"#000000\" font-family=\"Times,serif\" font-size=\"14.00\" text-anchor=\"middle\" x=\"88\" y=\"-185.8\">user_bias_flat: Flatten</text>\n",
       "<polyline fill=\"none\" points=\"156.5,-166.5 156.5,-212.5 \" stroke=\"#000000\"/>\n",
       "<text fill=\"#000000\" font-family=\"Times,serif\" font-size=\"14.00\" text-anchor=\"middle\" x=\"184\" y=\"-197.3\">input:</text>\n",
       "<polyline fill=\"none\" points=\"156.5,-189.5 211.5,-189.5 \" stroke=\"#000000\"/>\n",
       "<text fill=\"#000000\" font-family=\"Times,serif\" font-size=\"14.00\" text-anchor=\"middle\" x=\"184\" y=\"-174.3\">output:</text>\n",
       "<polyline fill=\"none\" points=\"211.5,-166.5 211.5,-212.5 \" stroke=\"#000000\"/>\n",
       "<text fill=\"#000000\" font-family=\"Times,serif\" font-size=\"14.00\" text-anchor=\"middle\" x=\"253\" y=\"-197.3\">(None, 1, 1)</text>\n",
       "<polyline fill=\"none\" points=\"211.5,-189.5 294.5,-189.5 \" stroke=\"#000000\"/>\n",
       "<text fill=\"#000000\" font-family=\"Times,serif\" font-size=\"14.00\" text-anchor=\"middle\" x=\"253\" y=\"-174.3\">(None, 1)</text>\n",
       "</g>\n",
       "<!-- 140210083495888&#45;&gt;140210083490640 -->\n",
       "<g class=\"edge\" id=\"edge7\">\n",
       "<title>140210083495888-&gt;140210083490640</title>\n",
       "<path d=\"M143.2926,-249.3799C145.1913,-241.0854 147.3711,-231.5633 149.4254,-222.5889\" fill=\"none\" stroke=\"#000000\"/>\n",
       "<polygon fill=\"#000000\" points=\"152.8502,-223.3129 151.6699,-212.784 146.0267,-221.7508 152.8502,-223.3129\" stroke=\"#000000\"/>\n",
       "</g>\n",
       "<!-- 140210083471056 -->\n",
       "<g class=\"node\" id=\"node9\">\n",
       "<title>140210083471056</title>\n",
       "<polygon fill=\"none\" points=\"631.5,-166.5 631.5,-212.5 930.5,-212.5 930.5,-166.5 631.5,-166.5\" stroke=\"#000000\"/>\n",
       "<text fill=\"#000000\" font-family=\"Times,serif\" font-size=\"14.00\" text-anchor=\"middle\" x=\"712\" y=\"-185.8\">business_bias_flat: Flatten</text>\n",
       "<polyline fill=\"none\" points=\"792.5,-166.5 792.5,-212.5 \" stroke=\"#000000\"/>\n",
       "<text fill=\"#000000\" font-family=\"Times,serif\" font-size=\"14.00\" text-anchor=\"middle\" x=\"820\" y=\"-197.3\">input:</text>\n",
       "<polyline fill=\"none\" points=\"792.5,-189.5 847.5,-189.5 \" stroke=\"#000000\"/>\n",
       "<text fill=\"#000000\" font-family=\"Times,serif\" font-size=\"14.00\" text-anchor=\"middle\" x=\"820\" y=\"-174.3\">output:</text>\n",
       "<polyline fill=\"none\" points=\"847.5,-166.5 847.5,-212.5 \" stroke=\"#000000\"/>\n",
       "<text fill=\"#000000\" font-family=\"Times,serif\" font-size=\"14.00\" text-anchor=\"middle\" x=\"889\" y=\"-197.3\">(None, 1, 1)</text>\n",
       "<polyline fill=\"none\" points=\"847.5,-189.5 930.5,-189.5 \" stroke=\"#000000\"/>\n",
       "<text fill=\"#000000\" font-family=\"Times,serif\" font-size=\"14.00\" text-anchor=\"middle\" x=\"889\" y=\"-174.3\">(None, 1)</text>\n",
       "</g>\n",
       "<!-- 140210116325968&#45;&gt;140210083471056 -->\n",
       "<g class=\"edge\" id=\"edge8\">\n",
       "<title>140210116325968-&gt;140210083471056</title>\n",
       "<path d=\"M793.2646,-249.3799C791.5657,-241.0854 789.6154,-231.5633 787.7773,-222.5889\" fill=\"none\" stroke=\"#000000\"/>\n",
       "<polygon fill=\"#000000\" points=\"791.2044,-221.8783 785.769,-212.784 784.3468,-223.2829 791.2044,-221.8783\" stroke=\"#000000\"/>\n",
       "</g>\n",
       "<!-- 140210083646416 -->\n",
       "<g class=\"node\" id=\"node10\">\n",
       "<title>140210083646416</title>\n",
       "<polygon fill=\"none\" points=\"330.5,-166.5 330.5,-212.5 597.5,-212.5 597.5,-166.5 330.5,-166.5\" stroke=\"#000000\"/>\n",
       "<text fill=\"#000000\" font-family=\"Times,serif\" font-size=\"14.00\" text-anchor=\"middle\" x=\"395\" y=\"-185.8\">residual_flat: Flatten</text>\n",
       "<polyline fill=\"none\" points=\"459.5,-166.5 459.5,-212.5 \" stroke=\"#000000\"/>\n",
       "<text fill=\"#000000\" font-family=\"Times,serif\" font-size=\"14.00\" text-anchor=\"middle\" x=\"487\" y=\"-197.3\">input:</text>\n",
       "<polyline fill=\"none\" points=\"459.5,-189.5 514.5,-189.5 \" stroke=\"#000000\"/>\n",
       "<text fill=\"#000000\" font-family=\"Times,serif\" font-size=\"14.00\" text-anchor=\"middle\" x=\"487\" y=\"-174.3\">output:</text>\n",
       "<polyline fill=\"none\" points=\"514.5,-166.5 514.5,-212.5 \" stroke=\"#000000\"/>\n",
       "<text fill=\"#000000\" font-family=\"Times,serif\" font-size=\"14.00\" text-anchor=\"middle\" x=\"556\" y=\"-197.3\">(None, 1, 1)</text>\n",
       "<polyline fill=\"none\" points=\"514.5,-189.5 597.5,-189.5 \" stroke=\"#000000\"/>\n",
       "<text fill=\"#000000\" font-family=\"Times,serif\" font-size=\"14.00\" text-anchor=\"middle\" x=\"556\" y=\"-174.3\">(None, 1)</text>\n",
       "</g>\n",
       "<!-- 140210083556432&#45;&gt;140210083646416 -->\n",
       "<g class=\"edge\" id=\"edge9\">\n",
       "<title>140210083556432-&gt;140210083646416</title>\n",
       "<path d=\"M464,-249.3799C464,-241.1745 464,-231.7679 464,-222.8786\" fill=\"none\" stroke=\"#000000\"/>\n",
       "<polygon fill=\"#000000\" points=\"467.5001,-222.784 464,-212.784 460.5001,-222.784 467.5001,-222.784\" stroke=\"#000000\"/>\n",
       "</g>\n",
       "<!-- 140210083147088 -->\n",
       "<g class=\"node\" id=\"node11\">\n",
       "<title>140210083147088</title>\n",
       "<polygon fill=\"none\" points=\"286,-83.5 286,-129.5 642,-129.5 642,-83.5 286,-83.5\" stroke=\"#000000\"/>\n",
       "<text fill=\"#000000\" font-family=\"Times,serif\" font-size=\"14.00\" text-anchor=\"middle\" x=\"337.5\" y=\"-102.8\">regression: Add</text>\n",
       "<polyline fill=\"none\" points=\"389,-83.5 389,-129.5 \" stroke=\"#000000\"/>\n",
       "<text fill=\"#000000\" font-family=\"Times,serif\" font-size=\"14.00\" text-anchor=\"middle\" x=\"416.5\" y=\"-114.3\">input:</text>\n",
       "<polyline fill=\"none\" points=\"389,-106.5 444,-106.5 \" stroke=\"#000000\"/>\n",
       "<text fill=\"#000000\" font-family=\"Times,serif\" font-size=\"14.00\" text-anchor=\"middle\" x=\"416.5\" y=\"-91.3\">output:</text>\n",
       "<polyline fill=\"none\" points=\"444,-83.5 444,-129.5 \" stroke=\"#000000\"/>\n",
       "<text fill=\"#000000\" font-family=\"Times,serif\" font-size=\"14.00\" text-anchor=\"middle\" x=\"543\" y=\"-114.3\">[(None, 1), (None, 1), (None, 1)]</text>\n",
       "<polyline fill=\"none\" points=\"444,-106.5 642,-106.5 \" stroke=\"#000000\"/>\n",
       "<text fill=\"#000000\" font-family=\"Times,serif\" font-size=\"14.00\" text-anchor=\"middle\" x=\"543\" y=\"-91.3\">(None, 1)</text>\n",
       "</g>\n",
       "<!-- 140210083490640&#45;&gt;140210083147088 -->\n",
       "<g class=\"edge\" id=\"edge10\">\n",
       "<title>140210083490640-&gt;140210083147088</title>\n",
       "<path d=\"M242.1089,-166.4901C281.4532,-155.853 328.3325,-143.1788 368.8427,-132.2266\" fill=\"none\" stroke=\"#000000\"/>\n",
       "<polygon fill=\"#000000\" points=\"369.9856,-135.5433 378.7255,-129.5547 368.1586,-128.7859 369.9856,-135.5433\" stroke=\"#000000\"/>\n",
       "</g>\n",
       "<!-- 140210083471056&#45;&gt;140210083147088 -->\n",
       "<g class=\"edge\" id=\"edge11\">\n",
       "<title>140210083471056-&gt;140210083147088</title>\n",
       "<path d=\"M693.1188,-166.4901C652.3212,-155.8081 603.6771,-143.0716 561.7266,-132.0877\" fill=\"none\" stroke=\"#000000\"/>\n",
       "<polygon fill=\"#000000\" points=\"562.6126,-128.7018 552.0522,-129.5547 560.8395,-135.4735 562.6126,-128.7018\" stroke=\"#000000\"/>\n",
       "</g>\n",
       "<!-- 140210083646416&#45;&gt;140210083147088 -->\n",
       "<g class=\"edge\" id=\"edge12\">\n",
       "<title>140210083646416-&gt;140210083147088</title>\n",
       "<path d=\"M464,-166.3799C464,-158.1745 464,-148.7679 464,-139.8786\" fill=\"none\" stroke=\"#000000\"/>\n",
       "<polygon fill=\"#000000\" points=\"467.5001,-139.784 464,-129.784 460.5001,-139.784 467.5001,-139.784\" stroke=\"#000000\"/>\n",
       "</g>\n",
       "<!-- 140210083645584 -->\n",
       "<g class=\"node\" id=\"node12\">\n",
       "<title>140210083645584</title>\n",
       "<polygon fill=\"none\" points=\"317.5,-.5 317.5,-46.5 610.5,-46.5 610.5,-.5 317.5,-.5\" stroke=\"#000000\"/>\n",
       "<text fill=\"#000000\" font-family=\"Times,serif\" font-size=\"14.00\" text-anchor=\"middle\" x=\"402\" y=\"-19.8\">Sigmoid_Range: Activation</text>\n",
       "<polyline fill=\"none\" points=\"486.5,-.5 486.5,-46.5 \" stroke=\"#000000\"/>\n",
       "<text fill=\"#000000\" font-family=\"Times,serif\" font-size=\"14.00\" text-anchor=\"middle\" x=\"514\" y=\"-31.3\">input:</text>\n",
       "<polyline fill=\"none\" points=\"486.5,-23.5 541.5,-23.5 \" stroke=\"#000000\"/>\n",
       "<text fill=\"#000000\" font-family=\"Times,serif\" font-size=\"14.00\" text-anchor=\"middle\" x=\"514\" y=\"-8.3\">output:</text>\n",
       "<polyline fill=\"none\" points=\"541.5,-.5 541.5,-46.5 \" stroke=\"#000000\"/>\n",
       "<text fill=\"#000000\" font-family=\"Times,serif\" font-size=\"14.00\" text-anchor=\"middle\" x=\"576\" y=\"-31.3\">(None, 1)</text>\n",
       "<polyline fill=\"none\" points=\"541.5,-23.5 610.5,-23.5 \" stroke=\"#000000\"/>\n",
       "<text fill=\"#000000\" font-family=\"Times,serif\" font-size=\"14.00\" text-anchor=\"middle\" x=\"576\" y=\"-8.3\">(None, 1)</text>\n",
       "</g>\n",
       "<!-- 140210083147088&#45;&gt;140210083645584 -->\n",
       "<g class=\"edge\" id=\"edge13\">\n",
       "<title>140210083147088-&gt;140210083645584</title>\n",
       "<path d=\"M464,-83.3799C464,-75.1745 464,-65.7679 464,-56.8786\" fill=\"none\" stroke=\"#000000\"/>\n",
       "<polygon fill=\"#000000\" points=\"467.5001,-56.784 464,-46.784 460.5001,-56.784 467.5001,-56.784\" stroke=\"#000000\"/>\n",
       "</g>\n",
       "</g>\n",
       "</svg>"
      ],
      "text/plain": [
       "<IPython.core.display.SVG object>"
      ]
     },
     "execution_count": 204,
     "metadata": {},
     "output_type": "execute_result"
    }
   ],
   "source": [
    "from IPython.display import SVG\n",
    "SVG(model_to_dot(model,  show_shapes=True, show_layer_names=True, dpi=72, rankdir='TB').create_svg())"
   ]
  },
  {
   "cell_type": "markdown",
   "metadata": {},
   "source": [
    "## Training the model\n",
    "\n",
    "**We train our model on Training data and evaluate the best fit of the hyperparameters by testing on validation dataset.**\n",
    "\n",
    "**First, we start slow with a learning rate of 0.001, then speed up to 0.01 and then slow back down so that we dont overshoot into having our validation loss climb back up to avoid overfitting.**"
   ]
  },
  {
   "cell_type": "code",
   "execution_count": 205,
   "metadata": {},
   "outputs": [
    {
     "name": "stdout",
     "output_type": "stream",
     "text": [
      "145/145 [==============================] - 5s 17ms/step - loss: 1.0195 - val_loss: 1.3476\n"
     ]
    },
    {
     "data": {
      "text/plain": [
       "<tensorflow.python.keras.callbacks.History at 0x7f84e6c7a510>"
      ]
     },
     "execution_count": 205,
     "metadata": {},
     "output_type": "execute_result"
    }
   ],
   "source": [
    "model.optimizer.lr=0.001\n",
    "model.fit([trdf.user_id, trdf.business_id], trdf.stars, batch_size=128, epochs=1, \n",
    "          validation_data=([valdf.user_id, valdf.business_id], valdf.stars))"
   ]
  },
  {
   "cell_type": "code",
   "execution_count": 206,
   "metadata": {},
   "outputs": [
    {
     "name": "stdout",
     "output_type": "stream",
     "text": [
      "145/145 [==============================] - 2s 13ms/step - loss: 1.0384 - val_loss: 1.3470\n"
     ]
    },
    {
     "data": {
      "text/plain": [
       "<tensorflow.python.keras.callbacks.History at 0x7f84e61af710>"
      ]
     },
     "execution_count": 206,
     "metadata": {},
     "output_type": "execute_result"
    }
   ],
   "source": [
    "model.optimizer.lr=0.01\n",
    "model.fit([trdf.user_id, trdf.business_id], trdf.stars, batch_size=128, epochs=1, \n",
    "          validation_data=([valdf.user_id, valdf.business_id], valdf.stars))"
   ]
  },
  {
   "cell_type": "code",
   "execution_count": 207,
   "metadata": {},
   "outputs": [
    {
     "name": "stdout",
     "output_type": "stream",
     "text": [
      "Epoch 1/4\n",
      "145/145 [==============================] - 2s 13ms/step - loss: 1.0372 - val_loss: 1.3469\n",
      "Epoch 2/4\n",
      "145/145 [==============================] - 2s 13ms/step - loss: 1.0371 - val_loss: 1.3469\n",
      "Epoch 3/4\n",
      "145/145 [==============================] - 2s 13ms/step - loss: 1.0370 - val_loss: 1.3468\n",
      "Epoch 4/4\n",
      "145/145 [==============================] - 2s 13ms/step - loss: 1.0368 - val_loss: 1.3468\n"
     ]
    },
    {
     "data": {
      "text/plain": [
       "<tensorflow.python.keras.callbacks.History at 0x7f84e595a490>"
      ]
     },
     "execution_count": 207,
     "metadata": {},
     "output_type": "execute_result"
    }
   ],
   "source": [
    "model.optimizer.lr=0.001\n",
    "model.fit([trdf.user_id, trdf.business_id], trdf.stars, batch_size=128, epochs=4, \n",
    "          validation_data=([valdf.user_id, valdf.business_id], valdf.stars))"
   ]
  },
  {
   "cell_type": "code",
   "execution_count": 208,
   "metadata": {},
   "outputs": [
    {
     "name": "stdout",
     "output_type": "stream",
     "text": [
      "Epoch 1/2\n",
      "145/145 [==============================] - 2s 14ms/step - loss: 1.0367 - val_loss: 1.3467\n",
      "Epoch 2/2\n",
      "145/145 [==============================] - 2s 13ms/step - loss: 1.0366 - val_loss: 1.3466\n"
     ]
    },
    {
     "data": {
      "text/plain": [
       "<tensorflow.python.keras.callbacks.History at 0x7f84e58cc8d0>"
      ]
     },
     "execution_count": 208,
     "metadata": {},
     "output_type": "execute_result"
    }
   ],
   "source": [
    "model.optimizer.lr=0.001\n",
    "model.fit([trdf.user_id, trdf.business_id], trdf.stars, batch_size=128, epochs=2, \n",
    "          validation_data=([valdf.user_id, valdf.business_id], valdf.stars))"
   ]
  },
  {
   "cell_type": "markdown",
   "metadata": {},
   "source": [
    "# Fitting Model with Train+Val Data and Testing on Test Data"
   ]
  },
  {
   "cell_type": "markdown",
   "metadata": {},
   "source": [
    "**After finding the best fit and hyperparameters , we again fit the model, this time on both Training + Test data and evaluate it using the Test data.**"
   ]
  },
  {
   "cell_type": "code",
   "execution_count": 209,
   "metadata": {},
   "outputs": [
    {
     "name": "stdout",
     "output_type": "stream",
     "text": [
      "Epoch 1/2\n",
      "193/193 [==============================] - 2s 13ms/step - loss: 1.1140 - val_loss: 1.5021\n",
      "Epoch 2/2\n",
      "193/193 [==============================] - 2s 12ms/step - loss: 1.1138 - val_loss: 1.5020\n"
     ]
    },
    {
     "data": {
      "text/plain": [
       "<tensorflow.python.keras.callbacks.History at 0x7f84e6c0ecd0>"
      ]
     },
     "execution_count": 209,
     "metadata": {},
     "output_type": "execute_result"
    }
   ],
   "source": [
    "model.optimizer.lr=0.001\n",
    "model.fit([trdf1.user_id, trdf1.business_id], trdf1.stars, batch_size=128, epochs=2, \n",
    "          validation_data=([testdf.user_id, testdf.business_id], testdf.stars))"
   ]
  },
  {
   "cell_type": "code",
   "execution_count": 97,
   "metadata": {},
   "outputs": [],
   "source": [
    "model.save_weights(\"processed_data/cf.h5\")"
   ]
  },
  {
   "cell_type": "markdown",
   "metadata": {},
   "source": [
    "## Making Rating Predictions\n",
    "\n",
    "**For making Predictions,we need to provide the userids and businessids to our model in an array.**"
   ]
  },
  {
   "cell_type": "code",
   "execution_count": 103,
   "metadata": {},
   "outputs": [
    {
     "data": {
      "text/html": [
       "<div>\n",
       "<style scoped>\n",
       "    .dataframe tbody tr th:only-of-type {\n",
       "        vertical-align: middle;\n",
       "    }\n",
       "\n",
       "    .dataframe tbody tr th {\n",
       "        vertical-align: top;\n",
       "    }\n",
       "\n",
       "    .dataframe thead th {\n",
       "        text-align: right;\n",
       "    }\n",
       "</style>\n",
       "<table border=\"1\" class=\"dataframe\">\n",
       "  <thead>\n",
       "    <tr style=\"text-align: right;\">\n",
       "      <th></th>\n",
       "      <th>user_id</th>\n",
       "      <th>business_id</th>\n",
       "      <th>stars</th>\n",
       "    </tr>\n",
       "  </thead>\n",
       "  <tbody>\n",
       "    <tr>\n",
       "      <th>30768</th>\n",
       "      <td>3553</td>\n",
       "      <td>673</td>\n",
       "      <td>3</td>\n",
       "    </tr>\n",
       "  </tbody>\n",
       "</table>\n",
       "</div>"
      ],
      "text/plain": [
       "       user_id  business_id  stars\n",
       "30768     3553          673      3"
      ]
     },
     "execution_count": 103,
     "metadata": {},
     "output_type": "execute_result"
    }
   ],
   "source": [
    "df[(df.user_id==3553) & (df.business_id==673)]"
   ]
  },
  {
   "cell_type": "code",
   "execution_count": 104,
   "metadata": {},
   "outputs": [
    {
     "data": {
      "text/plain": [
       "array([[3.3512654]], dtype=float32)"
      ]
     },
     "execution_count": 104,
     "metadata": {},
     "output_type": "execute_result"
    }
   ],
   "source": [
    "model.predict([np.array([3553]), np.array([673])])"
   ]
  },
  {
   "cell_type": "markdown",
   "metadata": {},
   "source": [
    "**Our model did quite a decent job of predicting the value of the restaurant in this case** -\n",
    "\n",
    "| Actual rating | Prediction|\n",
    "| --- | --- |\n",
    "| 3 | 3.35 |\n"
   ]
  },
  {
   "cell_type": "markdown",
   "metadata": {},
   "source": [
    "**However, if we move towards the extreme rating values i.e. close to 1 or 5, our model starts to perform poorly.**"
   ]
  },
  {
   "cell_type": "code",
   "execution_count": 189,
   "metadata": {},
   "outputs": [
    {
     "data": {
      "text/html": [
       "<div>\n",
       "<style scoped>\n",
       "    .dataframe tbody tr th:only-of-type {\n",
       "        vertical-align: middle;\n",
       "    }\n",
       "\n",
       "    .dataframe tbody tr th {\n",
       "        vertical-align: top;\n",
       "    }\n",
       "\n",
       "    .dataframe thead th {\n",
       "        text-align: right;\n",
       "    }\n",
       "</style>\n",
       "<table border=\"1\" class=\"dataframe\">\n",
       "  <thead>\n",
       "    <tr style=\"text-align: right;\">\n",
       "      <th></th>\n",
       "      <th>user_id</th>\n",
       "      <th>business_id</th>\n",
       "      <th>stars</th>\n",
       "    </tr>\n",
       "  </thead>\n",
       "  <tbody>\n",
       "    <tr>\n",
       "      <th>30767</th>\n",
       "      <td>18318</td>\n",
       "      <td>17</td>\n",
       "      <td>5</td>\n",
       "    </tr>\n",
       "  </tbody>\n",
       "</table>\n",
       "</div>"
      ],
      "text/plain": [
       "       user_id  business_id  stars\n",
       "30767    18318           17      5"
      ]
     },
     "execution_count": 189,
     "metadata": {},
     "output_type": "execute_result"
    }
   ],
   "source": [
    "df[(df.user_id==18318) & (df.business_id==17)]"
   ]
  },
  {
   "cell_type": "code",
   "execution_count": 190,
   "metadata": {},
   "outputs": [
    {
     "data": {
      "text/plain": [
       "array([[3.8993392]], dtype=float32)"
      ]
     },
     "execution_count": 190,
     "metadata": {},
     "output_type": "execute_result"
    }
   ],
   "source": [
    "model.predict([np.array([18318]), np.array([17])])"
   ]
  },
  {
   "cell_type": "code",
   "execution_count": 192,
   "metadata": {},
   "outputs": [
    {
     "data": {
      "text/html": [
       "<div>\n",
       "<style scoped>\n",
       "    .dataframe tbody tr th:only-of-type {\n",
       "        vertical-align: middle;\n",
       "    }\n",
       "\n",
       "    .dataframe tbody tr th {\n",
       "        vertical-align: top;\n",
       "    }\n",
       "\n",
       "    .dataframe thead th {\n",
       "        text-align: right;\n",
       "    }\n",
       "</style>\n",
       "<table border=\"1\" class=\"dataframe\">\n",
       "  <thead>\n",
       "    <tr style=\"text-align: right;\">\n",
       "      <th></th>\n",
       "      <th>user_id</th>\n",
       "      <th>business_id</th>\n",
       "      <th>stars</th>\n",
       "    </tr>\n",
       "  </thead>\n",
       "  <tbody>\n",
       "    <tr>\n",
       "      <th>30747</th>\n",
       "      <td>18308</td>\n",
       "      <td>640</td>\n",
       "      <td>1</td>\n",
       "    </tr>\n",
       "  </tbody>\n",
       "</table>\n",
       "</div>"
      ],
      "text/plain": [
       "       user_id  business_id  stars\n",
       "30747    18308          640      1"
      ]
     },
     "execution_count": 192,
     "metadata": {},
     "output_type": "execute_result"
    }
   ],
   "source": [
    "df[(df.user_id==18308) & (df.business_id==640)]"
   ]
  },
  {
   "cell_type": "code",
   "execution_count": 193,
   "metadata": {},
   "outputs": [
    {
     "data": {
      "text/plain": [
       "array([[2.227119]], dtype=float32)"
      ]
     },
     "execution_count": 193,
     "metadata": {},
     "output_type": "execute_result"
    }
   ],
   "source": [
    "model.predict([np.array([18308]), np.array([640])])"
   ]
  },
  {
   "cell_type": "markdown",
   "metadata": {},
   "source": [
    "**Prediction when the ratings are extreme values** - \n",
    "\n",
    "| Actual rating | Prediction|\n",
    "| --- | --- |\n",
    "| 5 | 3.89 |\n",
    "| 1 | 2.22 |"
   ]
  },
  {
   "cell_type": "markdown",
   "metadata": {},
   "source": [
    "## Making Recomendations to Users"
   ]
  },
  {
   "cell_type": "code",
   "execution_count": 211,
   "metadata": {},
   "outputs": [
    {
     "data": {
      "text/plain": [
       "939"
      ]
     },
     "execution_count": 211,
     "metadata": {},
     "output_type": "execute_result"
    }
   ],
   "source": [
    "#Total number of unique businesses\n",
    "\n",
    "len(business_names)"
   ]
  },
  {
   "cell_type": "markdown",
   "metadata": {},
   "source": [
    "#### Steps innvolved :\n",
    "1) **Get the dataframe of all the restaurants currently rated by the user.**\n",
    "\n",
    "2) **Getting the list of all the restaurants that are not rated by the user.**\n",
    "\n",
    "3) **Predicting the rating of all the restaurants that are not rated by the user**\n",
    "\n",
    "4) **Choosing the top 5 highest rated predictions and recommending them to the users.**"
   ]
  },
  {
   "cell_type": "markdown",
   "metadata": {},
   "source": [
    "#### The top 5 Recomendations for User_id = 94"
   ]
  },
  {
   "cell_type": "code",
   "execution_count": 180,
   "metadata": {},
   "outputs": [
    {
     "data": {
      "text/html": [
       "<div>\n",
       "<style scoped>\n",
       "    .dataframe tbody tr th:only-of-type {\n",
       "        vertical-align: middle;\n",
       "    }\n",
       "\n",
       "    .dataframe tbody tr th {\n",
       "        vertical-align: top;\n",
       "    }\n",
       "\n",
       "    .dataframe thead th {\n",
       "        text-align: right;\n",
       "    }\n",
       "</style>\n",
       "<table border=\"1\" class=\"dataframe\">\n",
       "  <thead>\n",
       "    <tr style=\"text-align: right;\">\n",
       "      <th></th>\n",
       "      <th>user_id</th>\n",
       "      <th>business_id</th>\n",
       "      <th>stars</th>\n",
       "      <th>business</th>\n",
       "    </tr>\n",
       "  </thead>\n",
       "  <tbody>\n",
       "    <tr>\n",
       "      <th>94</th>\n",
       "      <td>94</td>\n",
       "      <td>87</td>\n",
       "      <td>5</td>\n",
       "      <td>Riddle Room</td>\n",
       "    </tr>\n",
       "  </tbody>\n",
       "</table>\n",
       "</div>"
      ],
      "text/plain": [
       "    user_id  business_id  stars     business\n",
       "94       94           87      5  Riddle Room"
      ]
     },
     "execution_count": 180,
     "metadata": {},
     "output_type": "execute_result"
    }
   ],
   "source": [
    "\n",
    "dfuser94 = df[(df.user_id==94)].sort_values('stars', ascending=False)\n",
    "dfuser94['business'] = dfuser94.business_id.apply(lambda x: business_names[x])\n",
    "dfuser94.head()"
   ]
  },
  {
   "cell_type": "code",
   "execution_count": 181,
   "metadata": {},
   "outputs": [],
   "source": [
    "businesses_not_been = list(set(df.business_id) - set(dfuser94.business_id))\n",
    "dfuser94['predictions'] = model.predict([dfuser94.user_id, dfuser94.business_id]).ravel()\n",
    "predictions = model.predict([np.array([3]*len(businesses_not_been)), np.array(businesses_not_been)]).ravel()\n"
   ]
  },
  {
   "cell_type": "code",
   "execution_count": 182,
   "metadata": {},
   "outputs": [
    {
     "data": {
      "text/html": [
       "<div>\n",
       "<style scoped>\n",
       "    .dataframe tbody tr th:only-of-type {\n",
       "        vertical-align: middle;\n",
       "    }\n",
       "\n",
       "    .dataframe tbody tr th {\n",
       "        vertical-align: top;\n",
       "    }\n",
       "\n",
       "    .dataframe thead th {\n",
       "        text-align: right;\n",
       "    }\n",
       "</style>\n",
       "<table border=\"1\" class=\"dataframe\">\n",
       "  <thead>\n",
       "    <tr style=\"text-align: right;\">\n",
       "      <th></th>\n",
       "      <th>business_id</th>\n",
       "      <th>predictions</th>\n",
       "      <th>business</th>\n",
       "      <th>user_id</th>\n",
       "    </tr>\n",
       "  </thead>\n",
       "  <tbody>\n",
       "    <tr>\n",
       "      <th>182</th>\n",
       "      <td>183</td>\n",
       "      <td>4.032211</td>\n",
       "      <td>Plentea</td>\n",
       "      <td>94</td>\n",
       "    </tr>\n",
       "    <tr>\n",
       "      <th>84</th>\n",
       "      <td>84</td>\n",
       "      <td>4.016637</td>\n",
       "      <td>Hodo Kwaja</td>\n",
       "      <td>94</td>\n",
       "    </tr>\n",
       "    <tr>\n",
       "      <th>74</th>\n",
       "      <td>74</td>\n",
       "      <td>4.016085</td>\n",
       "      <td>Nuit Social</td>\n",
       "      <td>94</td>\n",
       "    </tr>\n",
       "    <tr>\n",
       "      <th>393</th>\n",
       "      <td>394</td>\n",
       "      <td>3.995870</td>\n",
       "      <td>Sasaki Fine Pastry</td>\n",
       "      <td>94</td>\n",
       "    </tr>\n",
       "    <tr>\n",
       "      <th>56</th>\n",
       "      <td>56</td>\n",
       "      <td>3.986487</td>\n",
       "      <td>Sansotei</td>\n",
       "      <td>94</td>\n",
       "    </tr>\n",
       "  </tbody>\n",
       "</table>\n",
       "</div>"
      ],
      "text/plain": [
       "     business_id  predictions            business  user_id\n",
       "182          183     4.032211             Plentea       94\n",
       "84            84     4.016637          Hodo Kwaja       94\n",
       "74            74     4.016085         Nuit Social       94\n",
       "393          394     3.995870  Sasaki Fine Pastry       94\n",
       "56            56     3.986487            Sansotei       94"
      ]
     },
     "execution_count": 182,
     "metadata": {},
     "output_type": "execute_result"
    }
   ],
   "source": [
    "dfuser94preds = pd.DataFrame(dict(\n",
    "    business_id = businesses_not_been,\n",
    "    predictions = predictions\n",
    "))\n",
    "dfuser94preds['business'] = dfuser94preds.business_id.apply(lambda x: business_names[x])\n",
    "dfuser94preds['user_id'] = 94\n",
    "dfuser94preds.sort_values('predictions', ascending=False).head(5)"
   ]
  },
  {
   "cell_type": "markdown",
   "metadata": {},
   "source": [
    "#### Making Top 5 Recomendations for User_id = 71"
   ]
  },
  {
   "cell_type": "code",
   "execution_count": 179,
   "metadata": {},
   "outputs": [
    {
     "data": {
      "text/html": [
       "<div>\n",
       "<style scoped>\n",
       "    .dataframe tbody tr th:only-of-type {\n",
       "        vertical-align: middle;\n",
       "    }\n",
       "\n",
       "    .dataframe tbody tr th {\n",
       "        vertical-align: top;\n",
       "    }\n",
       "\n",
       "    .dataframe thead th {\n",
       "        text-align: right;\n",
       "    }\n",
       "</style>\n",
       "<table border=\"1\" class=\"dataframe\">\n",
       "  <thead>\n",
       "    <tr style=\"text-align: right;\">\n",
       "      <th></th>\n",
       "      <th>business_id</th>\n",
       "      <th>predictions</th>\n",
       "      <th>business</th>\n",
       "      <th>user_id</th>\n",
       "    </tr>\n",
       "  </thead>\n",
       "  <tbody>\n",
       "    <tr>\n",
       "      <th>68</th>\n",
       "      <td>87</td>\n",
       "      <td>4.078497</td>\n",
       "      <td>Riddle Room</td>\n",
       "      <td>71</td>\n",
       "    </tr>\n",
       "    <tr>\n",
       "      <th>148</th>\n",
       "      <td>183</td>\n",
       "      <td>4.032211</td>\n",
       "      <td>Plentea</td>\n",
       "      <td>71</td>\n",
       "    </tr>\n",
       "    <tr>\n",
       "      <th>58</th>\n",
       "      <td>74</td>\n",
       "      <td>4.016085</td>\n",
       "      <td>Nuit Social</td>\n",
       "      <td>71</td>\n",
       "    </tr>\n",
       "    <tr>\n",
       "      <th>43</th>\n",
       "      <td>56</td>\n",
       "      <td>3.986487</td>\n",
       "      <td>Sansotei</td>\n",
       "      <td>71</td>\n",
       "    </tr>\n",
       "    <tr>\n",
       "      <th>51</th>\n",
       "      <td>65</td>\n",
       "      <td>3.977667</td>\n",
       "      <td>Completo</td>\n",
       "      <td>71</td>\n",
       "    </tr>\n",
       "  </tbody>\n",
       "</table>\n",
       "</div>"
      ],
      "text/plain": [
       "     business_id  predictions     business  user_id\n",
       "68            87     4.078497  Riddle Room       71\n",
       "148          183     4.032211      Plentea       71\n",
       "58            74     4.016085  Nuit Social       71\n",
       "43            56     3.986487     Sansotei       71\n",
       "51            65     3.977667     Completo       71"
      ]
     },
     "execution_count": 179,
     "metadata": {},
     "output_type": "execute_result"
    }
   ],
   "source": [
    "dfuser71 = df[(df.user_id==71)].sort_values('stars', ascending=False)\n",
    "dfuser71['business'] = dfuser71.business_id.apply(lambda x: business_names[x])\n",
    "dfuser71.head()\n",
    "\n",
    "businesses_not_been = list(set(df.business_id) - set(dfuser71.business_id))\n",
    "\n",
    "dfuser71['predictions'] = model.predict([dfuser71.user_id, dfuser71.business_id]).ravel()\n",
    "predictions = model.predict([np.array([3]*len(businesses_not_been)), np.array(businesses_not_been)]).ravel()\n",
    "\n",
    "\n",
    "dfuser71preds = pd.DataFrame(dict(\n",
    "    business_id = businesses_not_been,\n",
    "    predictions = predictions\n",
    "))\n",
    "\n",
    "dfuser71preds['business'] = dfuser71preds.business_id.apply(lambda x: business_names[x])\n",
    "dfuser71preds['user_id'] = 71\n",
    "dfuser71preds.sort_values('predictions', ascending=False).head(5)"
   ]
  },
  {
   "cell_type": "markdown",
   "metadata": {},
   "source": [
    "## Interpretations\n"
   ]
  },
  {
   "cell_type": "code",
   "execution_count": 212,
   "metadata": {},
   "outputs": [],
   "source": [
    "g=df.groupby('business_id')['stars'].count()\n",
    "places=g.sort_values(ascending=False)[:2000]\n",
    "places = np.array(places.index)"
   ]
  },
  {
   "cell_type": "markdown",
   "metadata": {},
   "source": [
    "We take the 2000 most active users"
   ]
  },
  {
   "cell_type": "code",
   "execution_count": 213,
   "metadata": {},
   "outputs": [],
   "source": [
    "g2=df.groupby('user_id')['stars'].count()\n",
    "people=g2.sort_values(ascending=False)[:2000]\n",
    "people = np.array(people.index)"
   ]
  },
  {
   "cell_type": "markdown",
   "metadata": {},
   "source": [
    "We construct a new model with business_ids as input and bias as output. It uses the embedding numbers to give us the bias for any business. Given this model we use it to predict the bias of popular places.."
   ]
  },
  {
   "cell_type": "code",
   "execution_count": 217,
   "metadata": {},
   "outputs": [],
   "source": [
    "get_business_bias = Model(business_input, business_bias)\n",
    "bb_places = get_business_bias.predict(places)\n",
    "places_ratings = [(b[0], business_names[i]) for i,b in zip(places,mb_places)]"
   ]
  },
  {
   "cell_type": "markdown",
   "metadata": {},
   "source": [
    "We do the same for users"
   ]
  },
  {
   "cell_type": "code",
   "execution_count": 218,
   "metadata": {},
   "outputs": [],
   "source": [
    "get_user_bias = Model(user_input, user_bias)\n",
    "ub_people = get_user_bias.predict(people)\n",
    "people_ratings = [(b[0], i) for i,b in zip(people,ub_people)]"
   ]
  },
  {
   "cell_type": "markdown",
   "metadata": {},
   "source": [
    "### Business Biases\n",
    "\n",
    "**This describes the average sentiment on the restaurants from all users**\n",
    "\n",
    "**Here are the top 15 predictions of higly (+ive) rated restaurants in Ontario (ON) :**"
   ]
  },
  {
   "cell_type": "code",
   "execution_count": 219,
   "metadata": {},
   "outputs": [
    {
     "data": {
      "text/plain": [
       "[(1.0298043, 'Riddle Room'),\n",
       " (0.9860453, 'Plentea'),\n",
       " (0.9712213, 'Hodo Kwaja'),\n",
       " (0.9712062, 'Nuit Social'),\n",
       " (0.95154, 'Sasaki Fine Pastry'),\n",
       " (0.9433582, 'Sansotei'),\n",
       " (0.9352464, 'Completo'),\n",
       " (0.9348159, 'Aloette'),\n",
       " (0.9139983, 'Mamajoun Armenian Pizzeria'),\n",
       " (0.90274, \"Jimmy's Coffee\"),\n",
       " (0.8935958, 'Jim Chai Kee'),\n",
       " (0.89025503, 'Sushi House'),\n",
       " (0.8901037, 'Our Spot'),\n",
       " (0.88843846, 'Veghed'),\n",
       " (0.8742392, 'Mon K Patisserie')]"
      ]
     },
     "execution_count": 219,
     "metadata": {},
     "output_type": "execute_result"
    }
   ],
   "source": [
    "from operator import itemgetter\n",
    "sorted(places_ratings, key=itemgetter(0), reverse=True)[:15]"
   ]
  },
  {
   "cell_type": "markdown",
   "metadata": {},
   "source": [
    "**Similarly, the predictions of the most poorly (-ive bias) rated restaurants in Ontario (ON) :**"
   ]
  },
  {
   "cell_type": "code",
   "execution_count": 221,
   "metadata": {},
   "outputs": [
    {
     "data": {
      "text/plain": [
       "[(-0.590328, \"McDonald's\"),\n",
       " (-0.58882767, 'Paramount Lebanese Kitchen'),\n",
       " (-0.527985, 'Swiss Chalet Rotisserie & Grill'),\n",
       " (-0.47805712, 'Basil Express Restaurant'),\n",
       " (-0.4691102, 'Dairy Queen'),\n",
       " (-0.45552737, \"McDonald's\"),\n",
       " (-0.4388413, \"McDonald's\"),\n",
       " (-0.40785533, 'Pita Land'),\n",
       " (-0.38117245, 'Tzatziki'),\n",
       " (-0.37400988, \"Gabby's Kingston Road\"),\n",
       " (-0.3683726, 'Pizza Pizza'),\n",
       " (-0.3622325, 'Wal-Mart'),\n",
       " (-0.32666352, 'Subway'),\n",
       " (-0.3226322, 'Swiss Chalet Rotisserie & Grill'),\n",
       " (-0.3161704, 'Washoku')]"
      ]
     },
     "execution_count": 221,
     "metadata": {},
     "output_type": "execute_result"
    }
   ],
   "source": [
    "sorted(places_ratings, key=itemgetter(0))[:15]"
   ]
  },
  {
   "cell_type": "markdown",
   "metadata": {},
   "source": [
    "***Note: here we see McDonald's at multiple places, because they are from different outlets spread over the province.***"
   ]
  },
  {
   "cell_type": "markdown",
   "metadata": {},
   "source": [
    "**Mean Restaurant Bias**"
   ]
  },
  {
   "cell_type": "code",
   "execution_count": 223,
   "metadata": {},
   "outputs": [
    {
     "data": {
      "text/plain": [
       "0.25230792"
      ]
     },
     "execution_count": 223,
     "metadata": {},
     "output_type": "execute_result"
    }
   ],
   "source": [
    "np.mean([e[0] for e in places_ratings])"
   ]
  },
  {
   "cell_type": "markdown",
   "metadata": {},
   "source": [
    "### User Biases\n",
    "\n",
    "\n",
    "**Here are the top 15 predictions of users that very easily give high ratings to the restaurants :**"
   ]
  },
  {
   "cell_type": "code",
   "execution_count": 224,
   "metadata": {
    "scrolled": true
   },
   "outputs": [
    {
     "data": {
      "text/plain": [
       "[(0.52569383, 840),\n",
       " (0.50802195, 2404),\n",
       " (0.47729522, 3625),\n",
       " (0.45544356, 3205),\n",
       " (0.44740987, 917),\n",
       " (0.44343752, 7378),\n",
       " (0.44234553, 1237),\n",
       " (0.4411573, 566),\n",
       " (0.43496272, 4096),\n",
       " (0.42024016, 484),\n",
       " (0.41985217, 1900),\n",
       " (0.41726762, 1444),\n",
       " (0.416955, 2681),\n",
       " (0.41572645, 2906),\n",
       " (0.40784916, 2501)]"
      ]
     },
     "execution_count": 224,
     "metadata": {},
     "output_type": "execute_result"
    }
   ],
   "source": [
    "sorted(people_ratings, key=itemgetter(0), reverse=True)[:15]"
   ]
  },
  {
   "cell_type": "markdown",
   "metadata": {},
   "source": [
    "**On the contrary, here are the top 15 most hard to please users**"
   ]
  },
  {
   "cell_type": "code",
   "execution_count": 225,
   "metadata": {},
   "outputs": [
    {
     "data": {
      "text/plain": [
       "[(-0.465115, 13967),\n",
       " (-0.41462725, 562),\n",
       " (-0.39329407, 2491),\n",
       " (-0.38856244, 748),\n",
       " (-0.38057527, 1195),\n",
       " (-0.36665863, 4289),\n",
       " (-0.3628298, 1963),\n",
       " (-0.3548793, 5242),\n",
       " (-0.35277542, 2067),\n",
       " (-0.35185823, 2585),\n",
       " (-0.3422162, 34),\n",
       " (-0.33527854, 6911),\n",
       " (-0.32746944, 4976),\n",
       " (-0.32588536, 4008),\n",
       " (-0.32237458, 7982)]"
      ]
     },
     "execution_count": 225,
     "metadata": {},
     "output_type": "execute_result"
    }
   ],
   "source": [
    "sorted(people_ratings, key=itemgetter(0))[:15]"
   ]
  },
  {
   "cell_type": "markdown",
   "metadata": {},
   "source": [
    "**Mean User Bias**"
   ]
  },
  {
   "cell_type": "code",
   "execution_count": 226,
   "metadata": {},
   "outputs": [
    {
     "data": {
      "text/plain": [
       "0.11633664"
      ]
     },
     "execution_count": 226,
     "metadata": {},
     "output_type": "execute_result"
    }
   ],
   "source": [
    "np.mean([e[0] for e in people_ratings])"
   ]
  },
  {
   "cell_type": "markdown",
   "metadata": {},
   "source": [
    "**The overall mean of the stars(rating)**"
   ]
  },
  {
   "cell_type": "code",
   "execution_count": 228,
   "metadata": {},
   "outputs": [
    {
     "data": {
      "text/plain": [
       "3.644121755514407"
      ]
     },
     "execution_count": 228,
     "metadata": {},
     "output_type": "execute_result"
    }
   ],
   "source": [
    "np.mean(df.stars)"
   ]
  },
  {
   "cell_type": "markdown",
   "metadata": {},
   "source": [
    "## Results"
   ]
  },
  {
   "cell_type": "markdown",
   "metadata": {},
   "source": [
    "### A) Making rating predictions"
   ]
  },
  {
   "cell_type": "markdown",
   "metadata": {},
   "source": [
    "- **We observed that the baseline model worked reasonably well, when predicting the restaurant ratings for a user, in the central range of 2-4 star ratings.**"
   ]
  },
  {
   "cell_type": "markdown",
   "metadata": {},
   "source": [
    "- **The base model did a pretty poor job at predicting the restaurant ratings for a user, in the case of extreme user ratings i.e.** ***ratings < 2 and ratings > 5***"
   ]
  },
  {
   "cell_type": "code",
   "execution_count": 198,
   "metadata": {},
   "outputs": [
    {
     "name": "stderr",
     "output_type": "stream",
     "text": [
      "/home/nehal/anaconda3/lib/python3.7/site-packages/matplotlib/cbook/__init__.py:1402: FutureWarning: Support for multi-dimensional indexing (e.g. `obj[:, None]`) is deprecated and will be removed in a future version.  Convert to a numpy array before indexing instead.\n",
      "  x[:, None]\n",
      "/home/nehal/anaconda3/lib/python3.7/site-packages/matplotlib/axes/_base.py:276: FutureWarning: Support for multi-dimensional indexing (e.g. `obj[:, None]`) is deprecated and will be removed in a future version.  Convert to a numpy array before indexing instead.\n",
      "  x = x[:, np.newaxis]\n",
      "/home/nehal/anaconda3/lib/python3.7/site-packages/matplotlib/axes/_base.py:278: FutureWarning: Support for multi-dimensional indexing (e.g. `obj[:, None]`) is deprecated and will be removed in a future version.  Convert to a numpy array before indexing instead.\n",
      "  y = y[:, np.newaxis]\n"
     ]
    },
    {
     "data": {
      "text/plain": [
       "Text(0, 0.5, 'prediction')"
      ]
     },
     "execution_count": 198,
     "metadata": {},
     "output_type": "execute_result"
    },
    {
     "data": {
      "image/png": "[encoded data removed]",
      "text/plain": [
       "<Figure size 432x288 with 1 Axes>"
      ]
     },
     "metadata": {
      "needs_background": "light"
     },
     "output_type": "display_data"
    }
   ],
   "source": [
    "dfpreds = df[['business_id', 'stars', 'user_id']].copy()\n",
    "dfpreds['predictions'] = model.predict([dfpreds.user_id, dfpreds.business_id]).ravel()\n",
    "\n",
    "preds_stats=dfpreds.groupby('stars')['predictions'].describe().reset_index()\n",
    "\n",
    "plt.plot([0.5,5],[0.5,5])\n",
    "plt.plot(preds_stats.stars, preds_stats['mean'], color=\"red\")\n",
    "plt.fill_between(preds_stats.stars, preds_stats['mean']-preds_stats['std'], preds_stats['mean']+preds_stats['std'], color=\"blue\", alpha=0.5)\n",
    "plt.xlabel(\"restaurant ratings\")\n",
    "plt.ylabel(\"prediction\")\n"
   ]
  },
  {
   "cell_type": "markdown",
   "metadata": {},
   "source": [
    "### B) Making Recomendations to Users"
   ]
  },
  {
   "cell_type": "markdown",
   "metadata": {},
   "source": [
    "- **We made user recommendations , based on the predicted ratings of the restaurants that the user had not visited. These predictions were then sorted w.r.t. to their ratings and the top 5 highest predicted restaurants were recommended to the user.**"
   ]
  },
  {
   "cell_type": "markdown",
   "metadata": {},
   "source": [
    "- **Our model performed well for the users that had rated a substantial number of restaurants, but for the users that did not rate many restaurants (eg- number_of_rated_restaurants < 5), the model's recommendations became redundant and top rated restaurants' recommendations for these cohort of users became quite similar.**"
   ]
  },
  {
   "cell_type": "markdown",
   "metadata": {},
   "source": [
    "## Limitations of the base model"
   ]
  },
  {
   "cell_type": "markdown",
   "metadata": {},
   "source": [
    "* **While making rating predictions, the baseline model performs poorly for extreme range ratings (i.e. for ratings<2 and ratings >4)**\n",
    "\n",
    "\n",
    "*  **For the users that have reviewed lesser number of restaurants (<5), then the base model's recommendation to those user sets becomes reduandant.**\n"
   ]
  },
  {
   "cell_type": "markdown",
   "metadata": {},
   "source": [
    "\n",
    "**We try and adress some of the above mentioned limitations in our Improvement Model.**\n",
    "\n",
    "\n",
    "***refer : shortreviewbased_recommend_with content.ipynb***"
   ]
  },
  {
   "cell_type": "markdown",
   "metadata": {},
   "source": [
    "***Notebook References :***\n",
    "* ***https://nick-morgan.github.io/Python-Recommendation-Engine-Yelp/***\n",
    "* ***(Collaborative Filtering - Setup, Training, and Interpretation.pdf) - By Prof Rahul Dave***\n",
    "* ***https://sites.northwestern.edu/msia/2019/04/24/personalized-restaurant-recommender-system-using-hybrid-approach/***"
   ]
  }
 ],
 "metadata": {
  "kernelspec": {
   "display_name": "Python 3",
   "language": "python",
   "name": "python3"
  },
  "language_info": {
   "codemirror_mode": {
    "name": "ipython",
    "version": 3
   },
   "file_extension": ".py",
   "mimetype": "text/x-python",
   "name": "python",
   "nbconvert_exporter": "python",
   "pygments_lexer": "ipython3",
   "version": "3.7.4"
  }
 },
 "nbformat": 4,
 "nbformat_minor": 2
}
