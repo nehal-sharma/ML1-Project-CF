{
 "cells": [
  {
   "cell_type": "markdown",
   "metadata": {
    "id": "hTAwWJ5Qlmwk"
   },
   "source": [
    "\n",
    "# ML-1: Collaborative filtering\n",
    "## Project: Building a Restaurant Recommendation System\n",
    "\n",
    "## Improvement Model\n",
    "\n",
    "\n",
    "**ML-1 Cohort 1** <br>"
   ]
  },
  {
   "cell_type": "markdown",
   "metadata": {
    "id": "Bv36XfX2X_Sh"
   },
   "source": [
    "Name of people who have worked on this project: \n",
    "\n",
    "Nehal Sharma 11675\n",
    "\n",
    "Keerthi Jayaram 11688\n",
    "\n",
    "Manila Devaraj 11699\n",
    "\n",
    "Gurushankar K. 500\n",
    "\n"
   ]
  },
  {
   "cell_type": "markdown",
   "metadata": {
    "id": "GEx8TgPdC_41"
   },
   "source": [
    "# Model Improvisation using Co-sine similarity "
   ]
  },
  {
   "cell_type": "markdown",
   "metadata": {
    "id": "s6OQF5okDahj"
   },
   "source": [
    "Clearly, the base model recommendations based on stars are not so great. We have to consider other columns of data to make better recommendations. \n",
    "\n",
    "\n",
    "Here, we use the tips written by a user on a business. Tips are shorter than reviews and tend to convey quick suggestions. We use text similarity to understand the similarity between different restaurants using their text reviews.\n",
    "\n",
    "Text similarity has to determine how ‘close’ two pieces of text are both in lexical similarity, surface closeness and semantic similarity, meaning.  \n",
    "In order to get a similarity metric that gives higher scores for texts belonging to the particular topic (in our case, restaurants) and lower scores when comparing texts from different topic, which basically is semantic similarity, we convert the words into respective word vectors using countVectoriser. \n",
    "\n",
    "For the clustering algorithm, we are using cosine similarity. \n"
   ]
  },
  {
   "cell_type": "markdown",
   "metadata": {},
   "source": [
    "## Table of Contents \n",
    "\n",
    "* Loading Data\n",
    "\n",
    "  "
   ]
  },
  {
   "cell_type": "markdown",
   "metadata": {},
   "source": [
    "### **Importing the neccesary libraries**"
   ]
  },
  {
   "cell_type": "code",
   "execution_count": 33,
   "metadata": {
    "id": "5fqCtQMEaCUN"
   },
   "outputs": [],
   "source": [
    "import pandas as pd\n",
    "from sklearn.feature_extraction.text import CountVectorizer\n",
    "from sklearn.metrics.pairwise import cosine_similarity"
   ]
  },
  {
   "cell_type": "markdown",
   "metadata": {},
   "source": [
    "### Loading Data"
   ]
  },
  {
   "cell_type": "code",
   "execution_count": 34,
   "metadata": {
    "colab": {
     "base_uri": "https://localhost:8080/",
     "height": 306
    },
    "id": "6XppmpS3aCUg",
    "outputId": "077c158c-5ba2-4b86-bcc0-06a7dcda7d15"
   },
   "outputs": [
    {
     "data": {
      "text/html": [
       "<div>\n",
       "<style scoped>\n",
       "    .dataframe tbody tr th:only-of-type {\n",
       "        vertical-align: middle;\n",
       "    }\n",
       "\n",
       "    .dataframe tbody tr th {\n",
       "        vertical-align: top;\n",
       "    }\n",
       "\n",
       "    .dataframe thead th {\n",
       "        text-align: right;\n",
       "    }\n",
       "</style>\n",
       "<table border=\"1\" class=\"dataframe\">\n",
       "  <thead>\n",
       "    <tr style=\"text-align: right;\">\n",
       "      <th></th>\n",
       "      <th>business_id</th>\n",
       "      <th>name</th>\n",
       "      <th>address</th>\n",
       "      <th>city</th>\n",
       "      <th>state</th>\n",
       "      <th>postal_code</th>\n",
       "      <th>latitude</th>\n",
       "      <th>longitude</th>\n",
       "      <th>stars</th>\n",
       "      <th>review_count</th>\n",
       "      <th>is_open</th>\n",
       "      <th>attributes</th>\n",
       "      <th>categories</th>\n",
       "      <th>hours</th>\n",
       "    </tr>\n",
       "  </thead>\n",
       "  <tbody>\n",
       "    <tr>\n",
       "      <th>0</th>\n",
       "      <td>f9NumwFMBDn751xgFiRbNA</td>\n",
       "      <td>The Range At Lake Norman</td>\n",
       "      <td>10913 Bailey Rd</td>\n",
       "      <td>Cornelius</td>\n",
       "      <td>NC</td>\n",
       "      <td>28031</td>\n",
       "      <td>35.462724</td>\n",
       "      <td>-80.852612</td>\n",
       "      <td>3.5</td>\n",
       "      <td>36</td>\n",
       "      <td>1</td>\n",
       "      <td>{'BusinessAcceptsCreditCards': 'True', 'BikePa...</td>\n",
       "      <td>Active Life, Gun/Rifle Ranges, Guns &amp; Ammo, Sh...</td>\n",
       "      <td>{'Monday': '10:0-18:0', 'Tuesday': '11:0-20:0'...</td>\n",
       "    </tr>\n",
       "    <tr>\n",
       "      <th>1</th>\n",
       "      <td>Yzvjg0SayhoZgCljUJRF9Q</td>\n",
       "      <td>Carlos Santo, NMD</td>\n",
       "      <td>8880 E Via Linda, Ste 107</td>\n",
       "      <td>Scottsdale</td>\n",
       "      <td>AZ</td>\n",
       "      <td>85258</td>\n",
       "      <td>33.569404</td>\n",
       "      <td>-111.890264</td>\n",
       "      <td>5.0</td>\n",
       "      <td>4</td>\n",
       "      <td>1</td>\n",
       "      <td>{'GoodForKids': 'True', 'ByAppointmentOnly': '...</td>\n",
       "      <td>Health &amp; Medical, Fitness &amp; Instruction, Yoga,...</td>\n",
       "      <td>None</td>\n",
       "    </tr>\n",
       "    <tr>\n",
       "      <th>2</th>\n",
       "      <td>XNoUzKckATkOD1hP6vghZg</td>\n",
       "      <td>Felinus</td>\n",
       "      <td>3554 Rue Notre-Dame O</td>\n",
       "      <td>Montreal</td>\n",
       "      <td>QC</td>\n",
       "      <td>H4C 1P4</td>\n",
       "      <td>45.479984</td>\n",
       "      <td>-73.580070</td>\n",
       "      <td>5.0</td>\n",
       "      <td>5</td>\n",
       "      <td>1</td>\n",
       "      <td>None</td>\n",
       "      <td>Pets, Pet Services, Pet Groomers</td>\n",
       "      <td>None</td>\n",
       "    </tr>\n",
       "    <tr>\n",
       "      <th>3</th>\n",
       "      <td>6OAZjbxqM5ol29BuHsil3w</td>\n",
       "      <td>Nevada House of Hose</td>\n",
       "      <td>1015 Sharp Cir</td>\n",
       "      <td>North Las Vegas</td>\n",
       "      <td>NV</td>\n",
       "      <td>89030</td>\n",
       "      <td>36.219728</td>\n",
       "      <td>-115.127725</td>\n",
       "      <td>2.5</td>\n",
       "      <td>3</td>\n",
       "      <td>0</td>\n",
       "      <td>{'BusinessAcceptsCreditCards': 'True', 'ByAppo...</td>\n",
       "      <td>Hardware Stores, Home Services, Building Suppl...</td>\n",
       "      <td>{'Monday': '7:0-16:0', 'Tuesday': '7:0-16:0', ...</td>\n",
       "    </tr>\n",
       "    <tr>\n",
       "      <th>4</th>\n",
       "      <td>51M2Kk903DFYI6gnB5I6SQ</td>\n",
       "      <td>USE MY GUY SERVICES LLC</td>\n",
       "      <td>4827 E Downing Cir</td>\n",
       "      <td>Mesa</td>\n",
       "      <td>AZ</td>\n",
       "      <td>85205</td>\n",
       "      <td>33.428065</td>\n",
       "      <td>-111.726648</td>\n",
       "      <td>4.5</td>\n",
       "      <td>26</td>\n",
       "      <td>1</td>\n",
       "      <td>{'BusinessAcceptsCreditCards': 'True', 'ByAppo...</td>\n",
       "      <td>Home Services, Plumbing, Electricians, Handyma...</td>\n",
       "      <td>{'Monday': '0:0-0:0', 'Tuesday': '9:0-16:0', '...</td>\n",
       "    </tr>\n",
       "  </tbody>\n",
       "</table>\n",
       "</div>"
      ],
      "text/plain": [
       "              business_id                      name  \\\n",
       "0  f9NumwFMBDn751xgFiRbNA  The Range At Lake Norman   \n",
       "1  Yzvjg0SayhoZgCljUJRF9Q         Carlos Santo, NMD   \n",
       "2  XNoUzKckATkOD1hP6vghZg                   Felinus   \n",
       "3  6OAZjbxqM5ol29BuHsil3w      Nevada House of Hose   \n",
       "4  51M2Kk903DFYI6gnB5I6SQ   USE MY GUY SERVICES LLC   \n",
       "\n",
       "                     address             city state postal_code   latitude  \\\n",
       "0            10913 Bailey Rd        Cornelius    NC       28031  35.462724   \n",
       "1  8880 E Via Linda, Ste 107       Scottsdale    AZ       85258  33.569404   \n",
       "2      3554 Rue Notre-Dame O         Montreal    QC     H4C 1P4  45.479984   \n",
       "3             1015 Sharp Cir  North Las Vegas    NV       89030  36.219728   \n",
       "4         4827 E Downing Cir             Mesa    AZ       85205  33.428065   \n",
       "\n",
       "    longitude  stars  review_count  is_open  \\\n",
       "0  -80.852612    3.5            36        1   \n",
       "1 -111.890264    5.0             4        1   \n",
       "2  -73.580070    5.0             5        1   \n",
       "3 -115.127725    2.5             3        0   \n",
       "4 -111.726648    4.5            26        1   \n",
       "\n",
       "                                          attributes  \\\n",
       "0  {'BusinessAcceptsCreditCards': 'True', 'BikePa...   \n",
       "1  {'GoodForKids': 'True', 'ByAppointmentOnly': '...   \n",
       "2                                               None   \n",
       "3  {'BusinessAcceptsCreditCards': 'True', 'ByAppo...   \n",
       "4  {'BusinessAcceptsCreditCards': 'True', 'ByAppo...   \n",
       "\n",
       "                                          categories  \\\n",
       "0  Active Life, Gun/Rifle Ranges, Guns & Ammo, Sh...   \n",
       "1  Health & Medical, Fitness & Instruction, Yoga,...   \n",
       "2                   Pets, Pet Services, Pet Groomers   \n",
       "3  Hardware Stores, Home Services, Building Suppl...   \n",
       "4  Home Services, Plumbing, Electricians, Handyma...   \n",
       "\n",
       "                                               hours  \n",
       "0  {'Monday': '10:0-18:0', 'Tuesday': '11:0-20:0'...  \n",
       "1                                               None  \n",
       "2                                               None  \n",
       "3  {'Monday': '7:0-16:0', 'Tuesday': '7:0-16:0', ...  \n",
       "4  {'Monday': '0:0-0:0', 'Tuesday': '9:0-16:0', '...  "
      ]
     },
     "execution_count": 34,
     "metadata": {},
     "output_type": "execute_result"
    }
   ],
   "source": [
    "df_b=pd.read_json(\"yelp_academic_dataset_business.json\", lines=True)\n",
    "df_b.head()"
   ]
  },
  {
   "cell_type": "code",
   "execution_count": 35,
   "metadata": {
    "colab": {
     "base_uri": "https://localhost:8080/"
    },
    "id": "sZ0UO4-MaCUi",
    "outputId": "51ac23c9-2737-49ec-c572-fea96420b4fa"
   },
   "outputs": [
    {
     "data": {
      "text/plain": [
       "(209393, 14)"
      ]
     },
     "execution_count": 35,
     "metadata": {},
     "output_type": "execute_result"
    }
   ],
   "source": [
    "df_b.shape"
   ]
  },
  {
   "cell_type": "markdown",
   "metadata": {},
   "source": [
    "Performing the same transformations on the \"Business.json\" file as we did in the EDA Notebook.\n",
    "* Filtering the column \"is_open\" and keep only businesses which have the value as \"1\".\n",
    "* Using df.explode to split the category types for different businesses\n",
    "* We filter out all the categories except \"restaurants\""
   ]
  },
  {
   "cell_type": "code",
   "execution_count": 36,
   "metadata": {
    "id": "S2AIlxKcaCUj"
   },
   "outputs": [],
   "source": [
    "df_b = df_b[df_b['is_open']==1]"
   ]
  },
  {
   "cell_type": "code",
   "execution_count": 37,
   "metadata": {
    "id": "g6-JG-PXaCUk"
   },
   "outputs": [],
   "source": [
    "df_explode = df_b.assign(categories = df_b.categories.str.split(', ')).explode('categories')"
   ]
  },
  {
   "cell_type": "code",
   "execution_count": 38,
   "metadata": {
    "colab": {
     "base_uri": "https://localhost:8080/"
    },
    "id": "MV35wHqraCUl",
    "outputId": "07d065c3-246e-4fc7-9f31-47fd70b5a2c2"
   },
   "outputs": [
    {
     "data": {
      "text/plain": [
       "(715205, 14)"
      ]
     },
     "execution_count": 38,
     "metadata": {},
     "output_type": "execute_result"
    }
   ],
   "source": [
    "df_explode.shape"
   ]
  },
  {
   "cell_type": "code",
   "execution_count": 39,
   "metadata": {
    "id": "1BkRhTBFaCUn"
   },
   "outputs": [],
   "source": [
    "df_restaurants = df_explode[df_explode['categories']==\"Restaurants\"]"
   ]
  },
  {
   "cell_type": "code",
   "execution_count": 40,
   "metadata": {
    "id": "AhWjqGckaCUn"
   },
   "outputs": [],
   "source": [
    "del df_b\n",
    "del df_explode"
   ]
  },
  {
   "cell_type": "code",
   "execution_count": 41,
   "metadata": {
    "colab": {
     "base_uri": "https://localhost:8080/",
     "height": 517
    },
    "id": "9fR_JLBbaCUq",
    "outputId": "34fbcdef-e4f0-4fc5-9f81-0f899c9a2306"
   },
   "outputs": [
    {
     "data": {
      "text/html": [
       "<div>\n",
       "<style scoped>\n",
       "    .dataframe tbody tr th:only-of-type {\n",
       "        vertical-align: middle;\n",
       "    }\n",
       "\n",
       "    .dataframe tbody tr th {\n",
       "        vertical-align: top;\n",
       "    }\n",
       "\n",
       "    .dataframe thead th {\n",
       "        text-align: right;\n",
       "    }\n",
       "</style>\n",
       "<table border=\"1\" class=\"dataframe\">\n",
       "  <thead>\n",
       "    <tr style=\"text-align: right;\">\n",
       "      <th></th>\n",
       "      <th>business_id</th>\n",
       "      <th>name</th>\n",
       "      <th>address</th>\n",
       "      <th>city</th>\n",
       "      <th>state</th>\n",
       "      <th>postal_code</th>\n",
       "      <th>latitude</th>\n",
       "      <th>longitude</th>\n",
       "      <th>stars</th>\n",
       "      <th>review_count</th>\n",
       "      <th>is_open</th>\n",
       "      <th>attributes</th>\n",
       "      <th>categories</th>\n",
       "      <th>hours</th>\n",
       "    </tr>\n",
       "  </thead>\n",
       "  <tbody>\n",
       "    <tr>\n",
       "      <th>8</th>\n",
       "      <td>pQeaRpvuhoEqudo3uymHIQ</td>\n",
       "      <td>The Empanadas House</td>\n",
       "      <td>404 E Green St</td>\n",
       "      <td>Champaign</td>\n",
       "      <td>IL</td>\n",
       "      <td>61820</td>\n",
       "      <td>40.110446</td>\n",
       "      <td>-88.233073</td>\n",
       "      <td>4.5</td>\n",
       "      <td>5</td>\n",
       "      <td>1</td>\n",
       "      <td>{'RestaurantsAttire': 'u'casual'', 'Restaurant...</td>\n",
       "      <td>Restaurants</td>\n",
       "      <td>{'Monday': '11:30-14:30', 'Tuesday': '11:30-14...</td>\n",
       "    </tr>\n",
       "    <tr>\n",
       "      <th>24</th>\n",
       "      <td>eBEfgOPG7pvFhb2wcG9I7w</td>\n",
       "      <td>Philthy Phillys</td>\n",
       "      <td>15480 Bayview Avenue, unit D0110</td>\n",
       "      <td>Aurora</td>\n",
       "      <td>ON</td>\n",
       "      <td>L4G 7J1</td>\n",
       "      <td>44.010962</td>\n",
       "      <td>-79.448677</td>\n",
       "      <td>4.5</td>\n",
       "      <td>4</td>\n",
       "      <td>1</td>\n",
       "      <td>{'RestaurantsTableService': 'False', 'Restaura...</td>\n",
       "      <td>Restaurants</td>\n",
       "      <td>{'Monday': '11:0-22:0', 'Tuesday': '11:0-22:0'...</td>\n",
       "    </tr>\n",
       "    <tr>\n",
       "      <th>25</th>\n",
       "      <td>lu7vtrp_bE9PnxWfA8g4Pg</td>\n",
       "      <td>Banzai Sushi</td>\n",
       "      <td>300 John Street</td>\n",
       "      <td>Thornhill</td>\n",
       "      <td>ON</td>\n",
       "      <td>L3T 5W4</td>\n",
       "      <td>43.820492</td>\n",
       "      <td>-79.398466</td>\n",
       "      <td>4.5</td>\n",
       "      <td>7</td>\n",
       "      <td>1</td>\n",
       "      <td>{'GoodForKids': 'True', 'RestaurantsTakeOut': ...</td>\n",
       "      <td>Restaurants</td>\n",
       "      <td>None</td>\n",
       "    </tr>\n",
       "    <tr>\n",
       "      <th>30</th>\n",
       "      <td>9sRGfSVEfLhN_km60YruTA</td>\n",
       "      <td>Apadana Restaurant</td>\n",
       "      <td>13071 Yonge Street</td>\n",
       "      <td>Richmond Hill</td>\n",
       "      <td>ON</td>\n",
       "      <td>L4E 1A5</td>\n",
       "      <td>43.947011</td>\n",
       "      <td>-79.454862</td>\n",
       "      <td>3.0</td>\n",
       "      <td>3</td>\n",
       "      <td>1</td>\n",
       "      <td>{'Ambience': '{'touristy': False, 'hipster': F...</td>\n",
       "      <td>Restaurants</td>\n",
       "      <td>{'Tuesday': '12:0-21:0', 'Wednesday': '12:0-21...</td>\n",
       "    </tr>\n",
       "    <tr>\n",
       "      <th>33</th>\n",
       "      <td>vjTVxnsQEZ34XjYNS-XUpA</td>\n",
       "      <td>Wetzel's Pretzels</td>\n",
       "      <td>4550 East Cactus Rd, #KSFC-4</td>\n",
       "      <td>Phoenix</td>\n",
       "      <td>AZ</td>\n",
       "      <td>85032</td>\n",
       "      <td>33.602822</td>\n",
       "      <td>-111.983533</td>\n",
       "      <td>4.0</td>\n",
       "      <td>10</td>\n",
       "      <td>1</td>\n",
       "      <td>{'GoodForKids': 'True', 'RestaurantsTakeOut': ...</td>\n",
       "      <td>Restaurants</td>\n",
       "      <td>{'Monday': '10:0-21:0', 'Tuesday': '10:0-21:0'...</td>\n",
       "    </tr>\n",
       "  </tbody>\n",
       "</table>\n",
       "</div>"
      ],
      "text/plain": [
       "               business_id                 name  \\\n",
       "8   pQeaRpvuhoEqudo3uymHIQ  The Empanadas House   \n",
       "24  eBEfgOPG7pvFhb2wcG9I7w      Philthy Phillys   \n",
       "25  lu7vtrp_bE9PnxWfA8g4Pg         Banzai Sushi   \n",
       "30  9sRGfSVEfLhN_km60YruTA   Apadana Restaurant   \n",
       "33  vjTVxnsQEZ34XjYNS-XUpA    Wetzel's Pretzels   \n",
       "\n",
       "                             address           city state postal_code  \\\n",
       "8                     404 E Green St      Champaign    IL       61820   \n",
       "24  15480 Bayview Avenue, unit D0110         Aurora    ON     L4G 7J1   \n",
       "25                   300 John Street      Thornhill    ON     L3T 5W4   \n",
       "30                13071 Yonge Street  Richmond Hill    ON     L4E 1A5   \n",
       "33      4550 East Cactus Rd, #KSFC-4        Phoenix    AZ       85032   \n",
       "\n",
       "     latitude   longitude  stars  review_count  is_open  \\\n",
       "8   40.110446  -88.233073    4.5             5        1   \n",
       "24  44.010962  -79.448677    4.5             4        1   \n",
       "25  43.820492  -79.398466    4.5             7        1   \n",
       "30  43.947011  -79.454862    3.0             3        1   \n",
       "33  33.602822 -111.983533    4.0            10        1   \n",
       "\n",
       "                                           attributes   categories  \\\n",
       "8   {'RestaurantsAttire': 'u'casual'', 'Restaurant...  Restaurants   \n",
       "24  {'RestaurantsTableService': 'False', 'Restaura...  Restaurants   \n",
       "25  {'GoodForKids': 'True', 'RestaurantsTakeOut': ...  Restaurants   \n",
       "30  {'Ambience': '{'touristy': False, 'hipster': F...  Restaurants   \n",
       "33  {'GoodForKids': 'True', 'RestaurantsTakeOut': ...  Restaurants   \n",
       "\n",
       "                                                hours  \n",
       "8   {'Monday': '11:30-14:30', 'Tuesday': '11:30-14...  \n",
       "24  {'Monday': '11:0-22:0', 'Tuesday': '11:0-22:0'...  \n",
       "25                                               None  \n",
       "30  {'Tuesday': '12:0-21:0', 'Wednesday': '12:0-21...  \n",
       "33  {'Monday': '10:0-21:0', 'Tuesday': '10:0-21:0'...  "
      ]
     },
     "execution_count": 41,
     "metadata": {},
     "output_type": "execute_result"
    }
   ],
   "source": [
    "df_restaurants.head()"
   ]
  },
  {
   "cell_type": "markdown",
   "metadata": {},
   "source": [
    "***Note: We encountered MemoryError during the execution of the notebook because the state \"ON\" had a large number of restaurants' data.Therefore, to counter this system limitation, we went ahead with filtering our dataframe with state=\"IL\".***"
   ]
  },
  {
   "cell_type": "code",
   "execution_count": 42,
   "metadata": {
    "id": "BsU6C0pJaCUq"
   },
   "outputs": [],
   "source": [
    "df = df_restaurants[df_restaurants['state']==\"IL\"]"
   ]
  },
  {
   "cell_type": "code",
   "execution_count": 43,
   "metadata": {
    "colab": {
     "base_uri": "https://localhost:8080/",
     "height": 310
    },
    "id": "GWZ0XipcaCUs",
    "outputId": "9b5e9b3e-124b-4602-f9ab-5e62255921cc"
   },
   "outputs": [],
   "source": [
    "tip = pd.read_json(\"yelp_academic_dataset_tip.json\", lines=True)"
   ]
  },
  {
   "cell_type": "code",
   "execution_count": 44,
   "metadata": {
    "id": "s-ECPZLAaCUs",
    "outputId": "746179df-18af-408f-de8a-8133f83b485a"
   },
   "outputs": [
    {
     "data": {
      "text/plain": [
       "(1320761, 5)"
      ]
     },
     "execution_count": 44,
     "metadata": {},
     "output_type": "execute_result"
    }
   ],
   "source": [
    "tip.shape"
   ]
  },
  {
   "cell_type": "code",
   "execution_count": 45,
   "metadata": {
    "id": "dfTjmcfFaCUt",
    "outputId": "cc24035d-369d-4f86-910e-02c8e60a40bc"
   },
   "outputs": [
    {
     "data": {
      "text/html": [
       "<div>\n",
       "<style scoped>\n",
       "    .dataframe tbody tr th:only-of-type {\n",
       "        vertical-align: middle;\n",
       "    }\n",
       "\n",
       "    .dataframe tbody tr th {\n",
       "        vertical-align: top;\n",
       "    }\n",
       "\n",
       "    .dataframe thead th {\n",
       "        text-align: right;\n",
       "    }\n",
       "</style>\n",
       "<table border=\"1\" class=\"dataframe\">\n",
       "  <thead>\n",
       "    <tr style=\"text-align: right;\">\n",
       "      <th></th>\n",
       "      <th>user_id</th>\n",
       "      <th>business_id</th>\n",
       "      <th>text</th>\n",
       "      <th>date</th>\n",
       "      <th>compliment_count</th>\n",
       "    </tr>\n",
       "  </thead>\n",
       "  <tbody>\n",
       "    <tr>\n",
       "      <th>0</th>\n",
       "      <td>hf27xTME3EiCp6NL6VtWZQ</td>\n",
       "      <td>UYX5zL_Xj9WEc_Wp-FrqHw</td>\n",
       "      <td>Here for a quick mtg</td>\n",
       "      <td>2013-11-26 18:20:08</td>\n",
       "      <td>0</td>\n",
       "    </tr>\n",
       "    <tr>\n",
       "      <th>1</th>\n",
       "      <td>uEvusDwoSymbJJ0auR3muQ</td>\n",
       "      <td>Ch3HkwQYv1YKw_FO06vBWA</td>\n",
       "      <td>Cucumber strawberry refresher</td>\n",
       "      <td>2014-06-15 22:26:45</td>\n",
       "      <td>0</td>\n",
       "    </tr>\n",
       "    <tr>\n",
       "      <th>2</th>\n",
       "      <td>AY-laIws3S7YXNl_f_D6rQ</td>\n",
       "      <td>rDoT-MgxGRiYqCmi0bG10g</td>\n",
       "      <td>Very nice good service good food</td>\n",
       "      <td>2016-07-18 22:03:42</td>\n",
       "      <td>0</td>\n",
       "    </tr>\n",
       "    <tr>\n",
       "      <th>3</th>\n",
       "      <td>Ue_7yUlkEbX4AhnYdUfL7g</td>\n",
       "      <td>OHXnDV01gLokiX1ELaQufA</td>\n",
       "      <td>It's a small place. The staff is friendly.</td>\n",
       "      <td>2014-06-06 01:10:34</td>\n",
       "      <td>0</td>\n",
       "    </tr>\n",
       "    <tr>\n",
       "      <th>4</th>\n",
       "      <td>LltbT_fUMqZ-ZJP-vJ84IQ</td>\n",
       "      <td>GMrwDXRlAZU2zj5nH6l4vQ</td>\n",
       "      <td>8 sandwiches, $24 total...what a bargain!!! An...</td>\n",
       "      <td>2011-04-08 18:12:01</td>\n",
       "      <td>0</td>\n",
       "    </tr>\n",
       "    <tr>\n",
       "      <th>5</th>\n",
       "      <td>HHNBqfbDR8b1iq-QGxu8ww</td>\n",
       "      <td>ALwAlxItASeEs2vYAeLXHA</td>\n",
       "      <td>Great ramen! Not only is the presentation gorg...</td>\n",
       "      <td>2015-05-20 20:17:38</td>\n",
       "      <td>0</td>\n",
       "    </tr>\n",
       "    <tr>\n",
       "      <th>6</th>\n",
       "      <td>r0j4IpUbcdC1-HfoMYae4w</td>\n",
       "      <td>d_L-rfS1vT3JMzgCUGtiow</td>\n",
       "      <td>Cochinita Pibil was memorable &amp; delicious !</td>\n",
       "      <td>2014-09-01 01:23:48</td>\n",
       "      <td>0</td>\n",
       "    </tr>\n",
       "    <tr>\n",
       "      <th>7</th>\n",
       "      <td>gxVQZJVeKBUk7jEhSyqv-A</td>\n",
       "      <td>5FIOXmUE3qMviX9GafGH-Q</td>\n",
       "      <td>Get a tsoynami for sure.</td>\n",
       "      <td>2010-01-30 02:03:16</td>\n",
       "      <td>0</td>\n",
       "    </tr>\n",
       "    <tr>\n",
       "      <th>8</th>\n",
       "      <td>2hdR7KYAmnCk2FjTnPFsuw</td>\n",
       "      <td>rcaPajgKOJC2vo_l3xa42A</td>\n",
       "      <td>Kelly is an awesome waitress there!</td>\n",
       "      <td>2012-05-29 02:05:56</td>\n",
       "      <td>0</td>\n",
       "    </tr>\n",
       "    <tr>\n",
       "      <th>9</th>\n",
       "      <td>DsWg3leomfasGs3j0rOfbQ</td>\n",
       "      <td>hfBrethLHS9iXeBNR8MtzQ</td>\n",
       "      <td>Check out the great assortment of organic &amp; co...</td>\n",
       "      <td>2011-09-30 18:38:47</td>\n",
       "      <td>0</td>\n",
       "    </tr>\n",
       "    <tr>\n",
       "      <th>10</th>\n",
       "      <td>dLWDy4yzVzMQuhjoEcRO0g</td>\n",
       "      <td>_98ytLdlPEDp0FTuO31R7Q</td>\n",
       "      <td>Girls night at a chick flick!</td>\n",
       "      <td>2012-10-14 02:11:37</td>\n",
       "      <td>0</td>\n",
       "    </tr>\n",
       "    <tr>\n",
       "      <th>11</th>\n",
       "      <td>SF83eQjb7XUiXuZVzMtzjQ</td>\n",
       "      <td>ow3oP3cfmhlfmSsGaXe25Q</td>\n",
       "      <td>Lovely locale, good food, but felt pricy.</td>\n",
       "      <td>2013-08-16 15:14:22</td>\n",
       "      <td>0</td>\n",
       "    </tr>\n",
       "    <tr>\n",
       "      <th>12</th>\n",
       "      <td>oLHQ-31LcRobRxjRU6PrZA</td>\n",
       "      <td>gG9z6zr_49LocyCTvSFg0w</td>\n",
       "      <td>Just be ready to stand in line. But it moves a...</td>\n",
       "      <td>2014-06-14 00:44:00</td>\n",
       "      <td>0</td>\n",
       "    </tr>\n",
       "    <tr>\n",
       "      <th>13</th>\n",
       "      <td>jOW3BGthCDL3l7Dd6AWZtA</td>\n",
       "      <td>w8RWhhuKxMiFCpvFvIQ3zg</td>\n",
       "      <td>The Pure Chocolate Truffle Granita with milk c...</td>\n",
       "      <td>2010-11-22 04:59:53</td>\n",
       "      <td>0</td>\n",
       "    </tr>\n",
       "    <tr>\n",
       "      <th>14</th>\n",
       "      <td>jJtMKVIUzdDG4xagIOSraA</td>\n",
       "      <td>-ed0Yc9on37RoIoG2ZgxBA</td>\n",
       "      <td>If there's a wait, go sit at the bar! The bart...</td>\n",
       "      <td>2014-04-07 06:29:58</td>\n",
       "      <td>0</td>\n",
       "    </tr>\n",
       "    <tr>\n",
       "      <th>15</th>\n",
       "      <td>XhGn2quN9IzMI4HkMSJ7nA</td>\n",
       "      <td>-wDNRL4lm1UgeFLG9KcrjQ</td>\n",
       "      <td>Great food. Been there a hand full of times an...</td>\n",
       "      <td>2016-04-19 09:33:45</td>\n",
       "      <td>0</td>\n",
       "    </tr>\n",
       "    <tr>\n",
       "      <th>16</th>\n",
       "      <td>K3bzEv1h7CP-B92bNPhFUA</td>\n",
       "      <td>aLcFhMe6DDJ430zelCpd2A</td>\n",
       "      <td>Must book your table</td>\n",
       "      <td>2012-03-16 02:02:27</td>\n",
       "      <td>0</td>\n",
       "    </tr>\n",
       "    <tr>\n",
       "      <th>17</th>\n",
       "      <td>aqc3CnsHVD177hfh3QE3kg</td>\n",
       "      <td>yDWYuIDfXHckdJM5fxOb5g</td>\n",
       "      <td>Great guy!  Awesome show!  I would go see agai...</td>\n",
       "      <td>2013-02-14 05:50:30</td>\n",
       "      <td>0</td>\n",
       "    </tr>\n",
       "    <tr>\n",
       "      <th>18</th>\n",
       "      <td>141lhbCGhduUaFs17MAnww</td>\n",
       "      <td>UbSa8ddKsvMZgodku_7gBQ</td>\n",
       "      <td>Quiet, relaxed, friendly. Great cuts, color an...</td>\n",
       "      <td>2014-08-28 21:40:22</td>\n",
       "      <td>0</td>\n",
       "    </tr>\n",
       "    <tr>\n",
       "      <th>19</th>\n",
       "      <td>BpJygDyhzDf7Pw1Is_5zSA</td>\n",
       "      <td>XC06xxb7FFYsXcI2E38IIw</td>\n",
       "      <td>Make a reservation.. even for lunch !! This pl...</td>\n",
       "      <td>2017-07-20 19:29:39</td>\n",
       "      <td>0</td>\n",
       "    </tr>\n",
       "  </tbody>\n",
       "</table>\n",
       "</div>"
      ],
      "text/plain": [
       "                   user_id             business_id  \\\n",
       "0   hf27xTME3EiCp6NL6VtWZQ  UYX5zL_Xj9WEc_Wp-FrqHw   \n",
       "1   uEvusDwoSymbJJ0auR3muQ  Ch3HkwQYv1YKw_FO06vBWA   \n",
       "2   AY-laIws3S7YXNl_f_D6rQ  rDoT-MgxGRiYqCmi0bG10g   \n",
       "3   Ue_7yUlkEbX4AhnYdUfL7g  OHXnDV01gLokiX1ELaQufA   \n",
       "4   LltbT_fUMqZ-ZJP-vJ84IQ  GMrwDXRlAZU2zj5nH6l4vQ   \n",
       "5   HHNBqfbDR8b1iq-QGxu8ww  ALwAlxItASeEs2vYAeLXHA   \n",
       "6   r0j4IpUbcdC1-HfoMYae4w  d_L-rfS1vT3JMzgCUGtiow   \n",
       "7   gxVQZJVeKBUk7jEhSyqv-A  5FIOXmUE3qMviX9GafGH-Q   \n",
       "8   2hdR7KYAmnCk2FjTnPFsuw  rcaPajgKOJC2vo_l3xa42A   \n",
       "9   DsWg3leomfasGs3j0rOfbQ  hfBrethLHS9iXeBNR8MtzQ   \n",
       "10  dLWDy4yzVzMQuhjoEcRO0g  _98ytLdlPEDp0FTuO31R7Q   \n",
       "11  SF83eQjb7XUiXuZVzMtzjQ  ow3oP3cfmhlfmSsGaXe25Q   \n",
       "12  oLHQ-31LcRobRxjRU6PrZA  gG9z6zr_49LocyCTvSFg0w   \n",
       "13  jOW3BGthCDL3l7Dd6AWZtA  w8RWhhuKxMiFCpvFvIQ3zg   \n",
       "14  jJtMKVIUzdDG4xagIOSraA  -ed0Yc9on37RoIoG2ZgxBA   \n",
       "15  XhGn2quN9IzMI4HkMSJ7nA  -wDNRL4lm1UgeFLG9KcrjQ   \n",
       "16  K3bzEv1h7CP-B92bNPhFUA  aLcFhMe6DDJ430zelCpd2A   \n",
       "17  aqc3CnsHVD177hfh3QE3kg  yDWYuIDfXHckdJM5fxOb5g   \n",
       "18  141lhbCGhduUaFs17MAnww  UbSa8ddKsvMZgodku_7gBQ   \n",
       "19  BpJygDyhzDf7Pw1Is_5zSA  XC06xxb7FFYsXcI2E38IIw   \n",
       "\n",
       "                                                 text                date  \\\n",
       "0                                Here for a quick mtg 2013-11-26 18:20:08   \n",
       "1                       Cucumber strawberry refresher 2014-06-15 22:26:45   \n",
       "2                    Very nice good service good food 2016-07-18 22:03:42   \n",
       "3          It's a small place. The staff is friendly. 2014-06-06 01:10:34   \n",
       "4   8 sandwiches, $24 total...what a bargain!!! An... 2011-04-08 18:12:01   \n",
       "5   Great ramen! Not only is the presentation gorg... 2015-05-20 20:17:38   \n",
       "6         Cochinita Pibil was memorable & delicious ! 2014-09-01 01:23:48   \n",
       "7                            Get a tsoynami for sure. 2010-01-30 02:03:16   \n",
       "8                 Kelly is an awesome waitress there! 2012-05-29 02:05:56   \n",
       "9   Check out the great assortment of organic & co... 2011-09-30 18:38:47   \n",
       "10                      Girls night at a chick flick! 2012-10-14 02:11:37   \n",
       "11          Lovely locale, good food, but felt pricy. 2013-08-16 15:14:22   \n",
       "12  Just be ready to stand in line. But it moves a... 2014-06-14 00:44:00   \n",
       "13  The Pure Chocolate Truffle Granita with milk c... 2010-11-22 04:59:53   \n",
       "14  If there's a wait, go sit at the bar! The bart... 2014-04-07 06:29:58   \n",
       "15  Great food. Been there a hand full of times an... 2016-04-19 09:33:45   \n",
       "16                               Must book your table 2012-03-16 02:02:27   \n",
       "17  Great guy!  Awesome show!  I would go see agai... 2013-02-14 05:50:30   \n",
       "18  Quiet, relaxed, friendly. Great cuts, color an... 2014-08-28 21:40:22   \n",
       "19  Make a reservation.. even for lunch !! This pl... 2017-07-20 19:29:39   \n",
       "\n",
       "    compliment_count  \n",
       "0                  0  \n",
       "1                  0  \n",
       "2                  0  \n",
       "3                  0  \n",
       "4                  0  \n",
       "5                  0  \n",
       "6                  0  \n",
       "7                  0  \n",
       "8                  0  \n",
       "9                  0  \n",
       "10                 0  \n",
       "11                 0  \n",
       "12                 0  \n",
       "13                 0  \n",
       "14                 0  \n",
       "15                 0  \n",
       "16                 0  \n",
       "17                 0  \n",
       "18                 0  \n",
       "19                 0  "
      ]
     },
     "execution_count": 45,
     "metadata": {},
     "output_type": "execute_result"
    }
   ],
   "source": [
    "tip.head(20)"
   ]
  },
  {
   "cell_type": "code",
   "execution_count": 46,
   "metadata": {
    "id": "NKCvw8cNaCUu"
   },
   "outputs": [],
   "source": [
    "df_merge = pd.merge(df,tip,on='business_id',how='inner')"
   ]
  },
  {
   "cell_type": "code",
   "execution_count": 47,
   "metadata": {
    "id": "e_R-l-HEaCUv",
    "outputId": "613e23e0-9b97-488c-d436-461ce0e869e4"
   },
   "outputs": [
    {
     "data": {
      "text/html": [
       "<div>\n",
       "<style scoped>\n",
       "    .dataframe tbody tr th:only-of-type {\n",
       "        vertical-align: middle;\n",
       "    }\n",
       "\n",
       "    .dataframe tbody tr th {\n",
       "        vertical-align: top;\n",
       "    }\n",
       "\n",
       "    .dataframe thead th {\n",
       "        text-align: right;\n",
       "    }\n",
       "</style>\n",
       "<table border=\"1\" class=\"dataframe\">\n",
       "  <thead>\n",
       "    <tr style=\"text-align: right;\">\n",
       "      <th></th>\n",
       "      <th>business_id</th>\n",
       "      <th>name</th>\n",
       "      <th>address</th>\n",
       "      <th>city</th>\n",
       "      <th>state</th>\n",
       "      <th>postal_code</th>\n",
       "      <th>latitude</th>\n",
       "      <th>longitude</th>\n",
       "      <th>stars</th>\n",
       "      <th>review_count</th>\n",
       "      <th>is_open</th>\n",
       "      <th>attributes</th>\n",
       "      <th>categories</th>\n",
       "      <th>hours</th>\n",
       "      <th>user_id</th>\n",
       "      <th>text</th>\n",
       "      <th>date</th>\n",
       "      <th>compliment_count</th>\n",
       "    </tr>\n",
       "  </thead>\n",
       "  <tbody>\n",
       "    <tr>\n",
       "      <th>0</th>\n",
       "      <td>R32Yh0XxxanldkIp11fuRg</td>\n",
       "      <td>BoBo's BBQ</td>\n",
       "      <td>1511 W Springfield Ave</td>\n",
       "      <td>Champaign</td>\n",
       "      <td>IL</td>\n",
       "      <td>61821</td>\n",
       "      <td>40.112515</td>\n",
       "      <td>-88.271575</td>\n",
       "      <td>3.5</td>\n",
       "      <td>45</td>\n",
       "      <td>1</td>\n",
       "      <td>{'RestaurantsAttire': 'u'casual'', 'Restaurant...</td>\n",
       "      <td>Restaurants</td>\n",
       "      <td>{'Monday': '11:0-20:0', 'Tuesday': '11:0-20:0'...</td>\n",
       "      <td>bOTKDN3RcrbZoAZlGwFkow</td>\n",
       "      <td>Keep driving. Three better BBQ places within a...</td>\n",
       "      <td>2019-11-17 21:28:45</td>\n",
       "      <td>0</td>\n",
       "    </tr>\n",
       "    <tr>\n",
       "      <th>1</th>\n",
       "      <td>R32Yh0XxxanldkIp11fuRg</td>\n",
       "      <td>BoBo's BBQ</td>\n",
       "      <td>1511 W Springfield Ave</td>\n",
       "      <td>Champaign</td>\n",
       "      <td>IL</td>\n",
       "      <td>61821</td>\n",
       "      <td>40.112515</td>\n",
       "      <td>-88.271575</td>\n",
       "      <td>3.5</td>\n",
       "      <td>45</td>\n",
       "      <td>1</td>\n",
       "      <td>{'RestaurantsAttire': 'u'casual'', 'Restaurant...</td>\n",
       "      <td>Restaurants</td>\n",
       "      <td>{'Monday': '11:0-20:0', 'Tuesday': '11:0-20:0'...</td>\n",
       "      <td>2oNh_vWxKo-E6aClobmL9Q</td>\n",
       "      <td>Great food, down to business management, great...</td>\n",
       "      <td>2019-05-14 19:38:28</td>\n",
       "      <td>0</td>\n",
       "    </tr>\n",
       "    <tr>\n",
       "      <th>2</th>\n",
       "      <td>R32Yh0XxxanldkIp11fuRg</td>\n",
       "      <td>BoBo's BBQ</td>\n",
       "      <td>1511 W Springfield Ave</td>\n",
       "      <td>Champaign</td>\n",
       "      <td>IL</td>\n",
       "      <td>61821</td>\n",
       "      <td>40.112515</td>\n",
       "      <td>-88.271575</td>\n",
       "      <td>3.5</td>\n",
       "      <td>45</td>\n",
       "      <td>1</td>\n",
       "      <td>{'RestaurantsAttire': 'u'casual'', 'Restaurant...</td>\n",
       "      <td>Restaurants</td>\n",
       "      <td>{'Monday': '11:0-20:0', 'Tuesday': '11:0-20:0'...</td>\n",
       "      <td>qZHvguRWXdfzCaD9lXRBPw</td>\n",
       "      <td>Yelp has their hours as open till 10 pm on Sat...</td>\n",
       "      <td>2015-04-26 02:19:31</td>\n",
       "      <td>0</td>\n",
       "    </tr>\n",
       "    <tr>\n",
       "      <th>3</th>\n",
       "      <td>R32Yh0XxxanldkIp11fuRg</td>\n",
       "      <td>BoBo's BBQ</td>\n",
       "      <td>1511 W Springfield Ave</td>\n",
       "      <td>Champaign</td>\n",
       "      <td>IL</td>\n",
       "      <td>61821</td>\n",
       "      <td>40.112515</td>\n",
       "      <td>-88.271575</td>\n",
       "      <td>3.5</td>\n",
       "      <td>45</td>\n",
       "      <td>1</td>\n",
       "      <td>{'RestaurantsAttire': 'u'casual'', 'Restaurant...</td>\n",
       "      <td>Restaurants</td>\n",
       "      <td>{'Monday': '11:0-20:0', 'Tuesday': '11:0-20:0'...</td>\n",
       "      <td>qZHvguRWXdfzCaD9lXRBPw</td>\n",
       "      <td>Good food, good prices, and nice staff.</td>\n",
       "      <td>2015-05-07 02:32:44</td>\n",
       "      <td>0</td>\n",
       "    </tr>\n",
       "    <tr>\n",
       "      <th>4</th>\n",
       "      <td>R32Yh0XxxanldkIp11fuRg</td>\n",
       "      <td>BoBo's BBQ</td>\n",
       "      <td>1511 W Springfield Ave</td>\n",
       "      <td>Champaign</td>\n",
       "      <td>IL</td>\n",
       "      <td>61821</td>\n",
       "      <td>40.112515</td>\n",
       "      <td>-88.271575</td>\n",
       "      <td>3.5</td>\n",
       "      <td>45</td>\n",
       "      <td>1</td>\n",
       "      <td>{'RestaurantsAttire': 'u'casual'', 'Restaurant...</td>\n",
       "      <td>Restaurants</td>\n",
       "      <td>{'Monday': '11:0-20:0', 'Tuesday': '11:0-20:0'...</td>\n",
       "      <td>m8D0_D-w3zGid_QhLrIx5Q</td>\n",
       "      <td>Not feeling the political post at the store, o...</td>\n",
       "      <td>2018-11-21 00:40:42</td>\n",
       "      <td>0</td>\n",
       "    </tr>\n",
       "    <tr>\n",
       "      <th>5</th>\n",
       "      <td>wTBfpTjdWG_zoE62B_bLtA</td>\n",
       "      <td>Monical's Pizza</td>\n",
       "      <td>102 W Vine St</td>\n",
       "      <td>Tolono</td>\n",
       "      <td>IL</td>\n",
       "      <td>61880</td>\n",
       "      <td>39.989060</td>\n",
       "      <td>-88.262436</td>\n",
       "      <td>3.0</td>\n",
       "      <td>10</td>\n",
       "      <td>1</td>\n",
       "      <td>{'BusinessParking': '{'garage': False, 'street...</td>\n",
       "      <td>Restaurants</td>\n",
       "      <td>{'Monday': '11:0-21:0', 'Tuesday': '11:0-21:0'...</td>\n",
       "      <td>7hLausNdpLFwBsN8Az6VSg</td>\n",
       "      <td>Breadsticks and nacho cheese!</td>\n",
       "      <td>2013-09-01 00:09:44</td>\n",
       "      <td>0</td>\n",
       "    </tr>\n",
       "    <tr>\n",
       "      <th>6</th>\n",
       "      <td>wTBfpTjdWG_zoE62B_bLtA</td>\n",
       "      <td>Monical's Pizza</td>\n",
       "      <td>102 W Vine St</td>\n",
       "      <td>Tolono</td>\n",
       "      <td>IL</td>\n",
       "      <td>61880</td>\n",
       "      <td>39.989060</td>\n",
       "      <td>-88.262436</td>\n",
       "      <td>3.0</td>\n",
       "      <td>10</td>\n",
       "      <td>1</td>\n",
       "      <td>{'BusinessParking': '{'garage': False, 'street...</td>\n",
       "      <td>Restaurants</td>\n",
       "      <td>{'Monday': '11:0-21:0', 'Tuesday': '11:0-21:0'...</td>\n",
       "      <td>lEK4qOghgynWrEYjrwFPTg</td>\n",
       "      <td>I live in FL and Monicals is always my first s...</td>\n",
       "      <td>2015-12-14 13:14:28</td>\n",
       "      <td>0</td>\n",
       "    </tr>\n",
       "    <tr>\n",
       "      <th>7</th>\n",
       "      <td>Z7r_FJXEyfyvVsyv2y7gFQ</td>\n",
       "      <td>Cactus Grill</td>\n",
       "      <td>1405 S Neil St, Ste C</td>\n",
       "      <td>Champaign</td>\n",
       "      <td>IL</td>\n",
       "      <td>61820</td>\n",
       "      <td>40.099648</td>\n",
       "      <td>-88.244768</td>\n",
       "      <td>4.0</td>\n",
       "      <td>60</td>\n",
       "      <td>1</td>\n",
       "      <td>{'RestaurantsDelivery': 'True', 'RestaurantsRe...</td>\n",
       "      <td>Restaurants</td>\n",
       "      <td>{'Monday': '11:0-21:0', 'Tuesday': '11:0-21:0'...</td>\n",
       "      <td>3wfIh8zXcgPmJs0UBgs_IQ</td>\n",
       "      <td>State that you refuse to pay if the order take...</td>\n",
       "      <td>2014-04-29 01:42:34</td>\n",
       "      <td>0</td>\n",
       "    </tr>\n",
       "    <tr>\n",
       "      <th>8</th>\n",
       "      <td>Z7r_FJXEyfyvVsyv2y7gFQ</td>\n",
       "      <td>Cactus Grill</td>\n",
       "      <td>1405 S Neil St, Ste C</td>\n",
       "      <td>Champaign</td>\n",
       "      <td>IL</td>\n",
       "      <td>61820</td>\n",
       "      <td>40.099648</td>\n",
       "      <td>-88.244768</td>\n",
       "      <td>4.0</td>\n",
       "      <td>60</td>\n",
       "      <td>1</td>\n",
       "      <td>{'RestaurantsDelivery': 'True', 'RestaurantsRe...</td>\n",
       "      <td>Restaurants</td>\n",
       "      <td>{'Monday': '11:0-21:0', 'Tuesday': '11:0-21:0'...</td>\n",
       "      <td>Fehq1PxRzvT49YvYN5dg2A</td>\n",
       "      <td>Cactus Grill was close to my hotel and it was ...</td>\n",
       "      <td>2016-07-13 02:20:47</td>\n",
       "      <td>0</td>\n",
       "    </tr>\n",
       "    <tr>\n",
       "      <th>9</th>\n",
       "      <td>Z7r_FJXEyfyvVsyv2y7gFQ</td>\n",
       "      <td>Cactus Grill</td>\n",
       "      <td>1405 S Neil St, Ste C</td>\n",
       "      <td>Champaign</td>\n",
       "      <td>IL</td>\n",
       "      <td>61820</td>\n",
       "      <td>40.099648</td>\n",
       "      <td>-88.244768</td>\n",
       "      <td>4.0</td>\n",
       "      <td>60</td>\n",
       "      <td>1</td>\n",
       "      <td>{'RestaurantsDelivery': 'True', 'RestaurantsRe...</td>\n",
       "      <td>Restaurants</td>\n",
       "      <td>{'Monday': '11:0-21:0', 'Tuesday': '11:0-21:0'...</td>\n",
       "      <td>e2ht1J2xp7aqjvTllCPPNw</td>\n",
       "      <td>Loaded nachos r the best steak and chicken r g...</td>\n",
       "      <td>2015-04-09 18:50:21</td>\n",
       "      <td>0</td>\n",
       "    </tr>\n",
       "  </tbody>\n",
       "</table>\n",
       "</div>"
      ],
      "text/plain": [
       "              business_id             name                 address       city  \\\n",
       "0  R32Yh0XxxanldkIp11fuRg       BoBo's BBQ  1511 W Springfield Ave  Champaign   \n",
       "1  R32Yh0XxxanldkIp11fuRg       BoBo's BBQ  1511 W Springfield Ave  Champaign   \n",
       "2  R32Yh0XxxanldkIp11fuRg       BoBo's BBQ  1511 W Springfield Ave  Champaign   \n",
       "3  R32Yh0XxxanldkIp11fuRg       BoBo's BBQ  1511 W Springfield Ave  Champaign   \n",
       "4  R32Yh0XxxanldkIp11fuRg       BoBo's BBQ  1511 W Springfield Ave  Champaign   \n",
       "5  wTBfpTjdWG_zoE62B_bLtA  Monical's Pizza           102 W Vine St     Tolono   \n",
       "6  wTBfpTjdWG_zoE62B_bLtA  Monical's Pizza           102 W Vine St     Tolono   \n",
       "7  Z7r_FJXEyfyvVsyv2y7gFQ     Cactus Grill   1405 S Neil St, Ste C  Champaign   \n",
       "8  Z7r_FJXEyfyvVsyv2y7gFQ     Cactus Grill   1405 S Neil St, Ste C  Champaign   \n",
       "9  Z7r_FJXEyfyvVsyv2y7gFQ     Cactus Grill   1405 S Neil St, Ste C  Champaign   \n",
       "\n",
       "  state postal_code   latitude  longitude  stars  review_count  is_open  \\\n",
       "0    IL       61821  40.112515 -88.271575    3.5            45        1   \n",
       "1    IL       61821  40.112515 -88.271575    3.5            45        1   \n",
       "2    IL       61821  40.112515 -88.271575    3.5            45        1   \n",
       "3    IL       61821  40.112515 -88.271575    3.5            45        1   \n",
       "4    IL       61821  40.112515 -88.271575    3.5            45        1   \n",
       "5    IL       61880  39.989060 -88.262436    3.0            10        1   \n",
       "6    IL       61880  39.989060 -88.262436    3.0            10        1   \n",
       "7    IL       61820  40.099648 -88.244768    4.0            60        1   \n",
       "8    IL       61820  40.099648 -88.244768    4.0            60        1   \n",
       "9    IL       61820  40.099648 -88.244768    4.0            60        1   \n",
       "\n",
       "                                          attributes   categories  \\\n",
       "0  {'RestaurantsAttire': 'u'casual'', 'Restaurant...  Restaurants   \n",
       "1  {'RestaurantsAttire': 'u'casual'', 'Restaurant...  Restaurants   \n",
       "2  {'RestaurantsAttire': 'u'casual'', 'Restaurant...  Restaurants   \n",
       "3  {'RestaurantsAttire': 'u'casual'', 'Restaurant...  Restaurants   \n",
       "4  {'RestaurantsAttire': 'u'casual'', 'Restaurant...  Restaurants   \n",
       "5  {'BusinessParking': '{'garage': False, 'street...  Restaurants   \n",
       "6  {'BusinessParking': '{'garage': False, 'street...  Restaurants   \n",
       "7  {'RestaurantsDelivery': 'True', 'RestaurantsRe...  Restaurants   \n",
       "8  {'RestaurantsDelivery': 'True', 'RestaurantsRe...  Restaurants   \n",
       "9  {'RestaurantsDelivery': 'True', 'RestaurantsRe...  Restaurants   \n",
       "\n",
       "                                               hours                 user_id  \\\n",
       "0  {'Monday': '11:0-20:0', 'Tuesday': '11:0-20:0'...  bOTKDN3RcrbZoAZlGwFkow   \n",
       "1  {'Monday': '11:0-20:0', 'Tuesday': '11:0-20:0'...  2oNh_vWxKo-E6aClobmL9Q   \n",
       "2  {'Monday': '11:0-20:0', 'Tuesday': '11:0-20:0'...  qZHvguRWXdfzCaD9lXRBPw   \n",
       "3  {'Monday': '11:0-20:0', 'Tuesday': '11:0-20:0'...  qZHvguRWXdfzCaD9lXRBPw   \n",
       "4  {'Monday': '11:0-20:0', 'Tuesday': '11:0-20:0'...  m8D0_D-w3zGid_QhLrIx5Q   \n",
       "5  {'Monday': '11:0-21:0', 'Tuesday': '11:0-21:0'...  7hLausNdpLFwBsN8Az6VSg   \n",
       "6  {'Monday': '11:0-21:0', 'Tuesday': '11:0-21:0'...  lEK4qOghgynWrEYjrwFPTg   \n",
       "7  {'Monday': '11:0-21:0', 'Tuesday': '11:0-21:0'...  3wfIh8zXcgPmJs0UBgs_IQ   \n",
       "8  {'Monday': '11:0-21:0', 'Tuesday': '11:0-21:0'...  Fehq1PxRzvT49YvYN5dg2A   \n",
       "9  {'Monday': '11:0-21:0', 'Tuesday': '11:0-21:0'...  e2ht1J2xp7aqjvTllCPPNw   \n",
       "\n",
       "                                                text                date  \\\n",
       "0  Keep driving. Three better BBQ places within a... 2019-11-17 21:28:45   \n",
       "1  Great food, down to business management, great... 2019-05-14 19:38:28   \n",
       "2  Yelp has their hours as open till 10 pm on Sat... 2015-04-26 02:19:31   \n",
       "3            Good food, good prices, and nice staff. 2015-05-07 02:32:44   \n",
       "4  Not feeling the political post at the store, o... 2018-11-21 00:40:42   \n",
       "5                      Breadsticks and nacho cheese! 2013-09-01 00:09:44   \n",
       "6  I live in FL and Monicals is always my first s... 2015-12-14 13:14:28   \n",
       "7  State that you refuse to pay if the order take... 2014-04-29 01:42:34   \n",
       "8  Cactus Grill was close to my hotel and it was ... 2016-07-13 02:20:47   \n",
       "9  Loaded nachos r the best steak and chicken r g... 2015-04-09 18:50:21   \n",
       "\n",
       "   compliment_count  \n",
       "0                 0  \n",
       "1                 0  \n",
       "2                 0  \n",
       "3                 0  \n",
       "4                 0  \n",
       "5                 0  \n",
       "6                 0  \n",
       "7                 0  \n",
       "8                 0  \n",
       "9                 0  "
      ]
     },
     "execution_count": 47,
     "metadata": {},
     "output_type": "execute_result"
    }
   ],
   "source": [
    "df_merge.head(10)"
   ]
  },
  {
   "cell_type": "code",
   "execution_count": 48,
   "metadata": {
    "id": "jdE62qX8aCUw",
    "outputId": "12a2076f-a2bf-4b6c-fd6b-82a24c6c9c30"
   },
   "outputs": [
    {
     "data": {
      "text/plain": [
       "(2733, 18)"
      ]
     },
     "execution_count": 48,
     "metadata": {},
     "output_type": "execute_result"
    }
   ],
   "source": [
    "df_merge.shape"
   ]
  },
  {
   "cell_type": "code",
   "execution_count": 49,
   "metadata": {
    "id": "_CdbvuwHaCUx"
   },
   "outputs": [],
   "source": [
    "df_final0 = df_merge.copy()"
   ]
  },
  {
   "cell_type": "code",
   "execution_count": 50,
   "metadata": {
    "id": "NwnHoiPIaCUx"
   },
   "outputs": [],
   "source": [
    "df_final = df_final0.drop(['business_id','address','city','state','postal_code','latitude', 'longitude','is_open','attributes','categories','hours','user_id','date','compliment_count'],axis=1)"
   ]
  },
  {
   "cell_type": "code",
   "execution_count": 51,
   "metadata": {
    "id": "HROkkzVeaCUy",
    "outputId": "7aaebc8d-1b35-4497-90ec-efc093a27ff8"
   },
   "outputs": [
    {
     "data": {
      "text/html": [
       "<div>\n",
       "<style scoped>\n",
       "    .dataframe tbody tr th:only-of-type {\n",
       "        vertical-align: middle;\n",
       "    }\n",
       "\n",
       "    .dataframe tbody tr th {\n",
       "        vertical-align: top;\n",
       "    }\n",
       "\n",
       "    .dataframe thead th {\n",
       "        text-align: right;\n",
       "    }\n",
       "</style>\n",
       "<table border=\"1\" class=\"dataframe\">\n",
       "  <thead>\n",
       "    <tr style=\"text-align: right;\">\n",
       "      <th></th>\n",
       "      <th>name</th>\n",
       "      <th>stars</th>\n",
       "      <th>review_count</th>\n",
       "      <th>text</th>\n",
       "    </tr>\n",
       "  </thead>\n",
       "  <tbody>\n",
       "    <tr>\n",
       "      <th>0</th>\n",
       "      <td>BoBo's BBQ</td>\n",
       "      <td>3.5</td>\n",
       "      <td>45</td>\n",
       "      <td>Keep driving. Three better BBQ places within a...</td>\n",
       "    </tr>\n",
       "    <tr>\n",
       "      <th>1</th>\n",
       "      <td>BoBo's BBQ</td>\n",
       "      <td>3.5</td>\n",
       "      <td>45</td>\n",
       "      <td>Great food, down to business management, great...</td>\n",
       "    </tr>\n",
       "    <tr>\n",
       "      <th>2</th>\n",
       "      <td>BoBo's BBQ</td>\n",
       "      <td>3.5</td>\n",
       "      <td>45</td>\n",
       "      <td>Yelp has their hours as open till 10 pm on Sat...</td>\n",
       "    </tr>\n",
       "    <tr>\n",
       "      <th>3</th>\n",
       "      <td>BoBo's BBQ</td>\n",
       "      <td>3.5</td>\n",
       "      <td>45</td>\n",
       "      <td>Good food, good prices, and nice staff.</td>\n",
       "    </tr>\n",
       "    <tr>\n",
       "      <th>4</th>\n",
       "      <td>BoBo's BBQ</td>\n",
       "      <td>3.5</td>\n",
       "      <td>45</td>\n",
       "      <td>Not feeling the political post at the store, o...</td>\n",
       "    </tr>\n",
       "  </tbody>\n",
       "</table>\n",
       "</div>"
      ],
      "text/plain": [
       "         name  stars  review_count  \\\n",
       "0  BoBo's BBQ    3.5            45   \n",
       "1  BoBo's BBQ    3.5            45   \n",
       "2  BoBo's BBQ    3.5            45   \n",
       "3  BoBo's BBQ    3.5            45   \n",
       "4  BoBo's BBQ    3.5            45   \n",
       "\n",
       "                                                text  \n",
       "0  Keep driving. Three better BBQ places within a...  \n",
       "1  Great food, down to business management, great...  \n",
       "2  Yelp has their hours as open till 10 pm on Sat...  \n",
       "3            Good food, good prices, and nice staff.  \n",
       "4  Not feeling the political post at the store, o...  "
      ]
     },
     "execution_count": 51,
     "metadata": {},
     "output_type": "execute_result"
    }
   ],
   "source": [
    "df_final.head()"
   ]
  },
  {
   "cell_type": "code",
   "execution_count": 52,
   "metadata": {
    "id": "W41_Buz-aCUy"
   },
   "outputs": [],
   "source": [
    "listwords = []\n",
    "for i in df_final.text:\n",
    "    listwords.append(i.split())"
   ]
  },
  {
   "cell_type": "code",
   "execution_count": 53,
   "metadata": {
    "id": "XkHx5XNgaCU3"
   },
   "outputs": [],
   "source": [
    "df_final['bag_of_words'] = pd.Series(listwords)"
   ]
  },
  {
   "cell_type": "code",
   "execution_count": 54,
   "metadata": {
    "id": "KUsw91AsaCU3",
    "outputId": "3122681f-f586-42c7-ab87-80ffc92b2415"
   },
   "outputs": [
    {
     "data": {
      "text/html": [
       "<div>\n",
       "<style scoped>\n",
       "    .dataframe tbody tr th:only-of-type {\n",
       "        vertical-align: middle;\n",
       "    }\n",
       "\n",
       "    .dataframe tbody tr th {\n",
       "        vertical-align: top;\n",
       "    }\n",
       "\n",
       "    .dataframe thead th {\n",
       "        text-align: right;\n",
       "    }\n",
       "</style>\n",
       "<table border=\"1\" class=\"dataframe\">\n",
       "  <thead>\n",
       "    <tr style=\"text-align: right;\">\n",
       "      <th></th>\n",
       "      <th>name</th>\n",
       "      <th>stars</th>\n",
       "      <th>review_count</th>\n",
       "      <th>text</th>\n",
       "      <th>bag_of_words</th>\n",
       "    </tr>\n",
       "  </thead>\n",
       "  <tbody>\n",
       "    <tr>\n",
       "      <th>0</th>\n",
       "      <td>BoBo's BBQ</td>\n",
       "      <td>3.5</td>\n",
       "      <td>45</td>\n",
       "      <td>Keep driving. Three better BBQ places within a...</td>\n",
       "      <td>[Keep, driving., Three, better, BBQ, places, w...</td>\n",
       "    </tr>\n",
       "    <tr>\n",
       "      <th>1</th>\n",
       "      <td>BoBo's BBQ</td>\n",
       "      <td>3.5</td>\n",
       "      <td>45</td>\n",
       "      <td>Great food, down to business management, great...</td>\n",
       "      <td>[Great, food,, down, to, business, management,...</td>\n",
       "    </tr>\n",
       "    <tr>\n",
       "      <th>2</th>\n",
       "      <td>BoBo's BBQ</td>\n",
       "      <td>3.5</td>\n",
       "      <td>45</td>\n",
       "      <td>Yelp has their hours as open till 10 pm on Sat...</td>\n",
       "      <td>[Yelp, has, their, hours, as, open, till, 10, ...</td>\n",
       "    </tr>\n",
       "    <tr>\n",
       "      <th>3</th>\n",
       "      <td>BoBo's BBQ</td>\n",
       "      <td>3.5</td>\n",
       "      <td>45</td>\n",
       "      <td>Good food, good prices, and nice staff.</td>\n",
       "      <td>[Good, food,, good, prices,, and, nice, staff.]</td>\n",
       "    </tr>\n",
       "    <tr>\n",
       "      <th>4</th>\n",
       "      <td>BoBo's BBQ</td>\n",
       "      <td>3.5</td>\n",
       "      <td>45</td>\n",
       "      <td>Not feeling the political post at the store, o...</td>\n",
       "      <td>[Not, feeling, the, political, post, at, the, ...</td>\n",
       "    </tr>\n",
       "    <tr>\n",
       "      <th>5</th>\n",
       "      <td>Monical's Pizza</td>\n",
       "      <td>3.0</td>\n",
       "      <td>10</td>\n",
       "      <td>Breadsticks and nacho cheese!</td>\n",
       "      <td>[Breadsticks, and, nacho, cheese!]</td>\n",
       "    </tr>\n",
       "    <tr>\n",
       "      <th>6</th>\n",
       "      <td>Monical's Pizza</td>\n",
       "      <td>3.0</td>\n",
       "      <td>10</td>\n",
       "      <td>I live in FL and Monicals is always my first s...</td>\n",
       "      <td>[I, live, in, FL, and, Monicals, is, always, m...</td>\n",
       "    </tr>\n",
       "    <tr>\n",
       "      <th>7</th>\n",
       "      <td>Cactus Grill</td>\n",
       "      <td>4.0</td>\n",
       "      <td>60</td>\n",
       "      <td>State that you refuse to pay if the order take...</td>\n",
       "      <td>[State, that, you, refuse, to, pay, if, the, o...</td>\n",
       "    </tr>\n",
       "    <tr>\n",
       "      <th>8</th>\n",
       "      <td>Cactus Grill</td>\n",
       "      <td>4.0</td>\n",
       "      <td>60</td>\n",
       "      <td>Cactus Grill was close to my hotel and it was ...</td>\n",
       "      <td>[Cactus, Grill, was, close, to, my, hotel, and...</td>\n",
       "    </tr>\n",
       "    <tr>\n",
       "      <th>9</th>\n",
       "      <td>Cactus Grill</td>\n",
       "      <td>4.0</td>\n",
       "      <td>60</td>\n",
       "      <td>Loaded nachos r the best steak and chicken r g...</td>\n",
       "      <td>[Loaded, nachos, r, the, best, steak, and, chi...</td>\n",
       "    </tr>\n",
       "    <tr>\n",
       "      <th>10</th>\n",
       "      <td>Cactus Grill</td>\n",
       "      <td>4.0</td>\n",
       "      <td>60</td>\n",
       "      <td>Tasty burritos and daily specials, very friend...</td>\n",
       "      <td>[Tasty, burritos, and, daily, specials,, very,...</td>\n",
       "    </tr>\n",
       "    <tr>\n",
       "      <th>11</th>\n",
       "      <td>A-Ri-Rang</td>\n",
       "      <td>4.0</td>\n",
       "      <td>60</td>\n",
       "      <td>Huge amount of food for price! I would definit...</td>\n",
       "      <td>[Huge, amount, of, food, for, price!, I, would...</td>\n",
       "    </tr>\n",
       "    <tr>\n",
       "      <th>12</th>\n",
       "      <td>A-Ri-Rang</td>\n",
       "      <td>4.0</td>\n",
       "      <td>60</td>\n",
       "      <td>Popular korean food</td>\n",
       "      <td>[Popular, korean, food]</td>\n",
       "    </tr>\n",
       "    <tr>\n",
       "      <th>13</th>\n",
       "      <td>A-Ri-Rang</td>\n",
       "      <td>4.0</td>\n",
       "      <td>60</td>\n",
       "      <td>I used to love their budae jjigae when I was a...</td>\n",
       "      <td>[I, used, to, love, their, budae, jjigae, when...</td>\n",
       "    </tr>\n",
       "    <tr>\n",
       "      <th>14</th>\n",
       "      <td>A-Ri-Rang</td>\n",
       "      <td>4.0</td>\n",
       "      <td>60</td>\n",
       "      <td>hearty soups!!! So much in it.</td>\n",
       "      <td>[hearty, soups!!!, So, much, in, it.]</td>\n",
       "    </tr>\n",
       "    <tr>\n",
       "      <th>15</th>\n",
       "      <td>A-Ri-Rang</td>\n",
       "      <td>4.0</td>\n",
       "      <td>60</td>\n",
       "      <td>Very fast and friendly service.</td>\n",
       "      <td>[Very, fast, and, friendly, service.]</td>\n",
       "    </tr>\n",
       "    <tr>\n",
       "      <th>16</th>\n",
       "      <td>A-Ri-Rang</td>\n",
       "      <td>4.0</td>\n",
       "      <td>60</td>\n",
       "      <td>Good! Especially those soups No.9 and No.11. T...</td>\n",
       "      <td>[Good!, Especially, those, soups, No.9, and, N...</td>\n",
       "    </tr>\n",
       "    <tr>\n",
       "      <th>17</th>\n",
       "      <td>A-Ri-Rang</td>\n",
       "      <td>4.0</td>\n",
       "      <td>60</td>\n",
       "      <td>A restaurant pretty convenient from the Engine...</td>\n",
       "      <td>[A, restaurant, pretty, convenient, from, the,...</td>\n",
       "    </tr>\n",
       "    <tr>\n",
       "      <th>18</th>\n",
       "      <td>DESTIHL Restaurant &amp; Brew Works</td>\n",
       "      <td>4.0</td>\n",
       "      <td>712</td>\n",
       "      <td>Wonderful service,  great food. Our waitress w...</td>\n",
       "      <td>[Wonderful, service,, great, food., Our, waitr...</td>\n",
       "    </tr>\n",
       "    <tr>\n",
       "      <th>19</th>\n",
       "      <td>DESTIHL Restaurant &amp; Brew Works</td>\n",
       "      <td>4.0</td>\n",
       "      <td>712</td>\n",
       "      <td>Best Bloody Mary ever. Best in Champaign, best...</td>\n",
       "      <td>[Best, Bloody, Mary, ever., Best, in, Champaig...</td>\n",
       "    </tr>\n",
       "  </tbody>\n",
       "</table>\n",
       "</div>"
      ],
      "text/plain": [
       "                               name  stars  review_count  \\\n",
       "0                        BoBo's BBQ    3.5            45   \n",
       "1                        BoBo's BBQ    3.5            45   \n",
       "2                        BoBo's BBQ    3.5            45   \n",
       "3                        BoBo's BBQ    3.5            45   \n",
       "4                        BoBo's BBQ    3.5            45   \n",
       "5                   Monical's Pizza    3.0            10   \n",
       "6                   Monical's Pizza    3.0            10   \n",
       "7                      Cactus Grill    4.0            60   \n",
       "8                      Cactus Grill    4.0            60   \n",
       "9                      Cactus Grill    4.0            60   \n",
       "10                     Cactus Grill    4.0            60   \n",
       "11                        A-Ri-Rang    4.0            60   \n",
       "12                        A-Ri-Rang    4.0            60   \n",
       "13                        A-Ri-Rang    4.0            60   \n",
       "14                        A-Ri-Rang    4.0            60   \n",
       "15                        A-Ri-Rang    4.0            60   \n",
       "16                        A-Ri-Rang    4.0            60   \n",
       "17                        A-Ri-Rang    4.0            60   \n",
       "18  DESTIHL Restaurant & Brew Works    4.0           712   \n",
       "19  DESTIHL Restaurant & Brew Works    4.0           712   \n",
       "\n",
       "                                                 text  \\\n",
       "0   Keep driving. Three better BBQ places within a...   \n",
       "1   Great food, down to business management, great...   \n",
       "2   Yelp has their hours as open till 10 pm on Sat...   \n",
       "3             Good food, good prices, and nice staff.   \n",
       "4   Not feeling the political post at the store, o...   \n",
       "5                       Breadsticks and nacho cheese!   \n",
       "6   I live in FL and Monicals is always my first s...   \n",
       "7   State that you refuse to pay if the order take...   \n",
       "8   Cactus Grill was close to my hotel and it was ...   \n",
       "9   Loaded nachos r the best steak and chicken r g...   \n",
       "10  Tasty burritos and daily specials, very friend...   \n",
       "11  Huge amount of food for price! I would definit...   \n",
       "12                                Popular korean food   \n",
       "13  I used to love their budae jjigae when I was a...   \n",
       "14                     hearty soups!!! So much in it.   \n",
       "15                    Very fast and friendly service.   \n",
       "16  Good! Especially those soups No.9 and No.11. T...   \n",
       "17  A restaurant pretty convenient from the Engine...   \n",
       "18  Wonderful service,  great food. Our waitress w...   \n",
       "19  Best Bloody Mary ever. Best in Champaign, best...   \n",
       "\n",
       "                                         bag_of_words  \n",
       "0   [Keep, driving., Three, better, BBQ, places, w...  \n",
       "1   [Great, food,, down, to, business, management,...  \n",
       "2   [Yelp, has, their, hours, as, open, till, 10, ...  \n",
       "3     [Good, food,, good, prices,, and, nice, staff.]  \n",
       "4   [Not, feeling, the, political, post, at, the, ...  \n",
       "5                  [Breadsticks, and, nacho, cheese!]  \n",
       "6   [I, live, in, FL, and, Monicals, is, always, m...  \n",
       "7   [State, that, you, refuse, to, pay, if, the, o...  \n",
       "8   [Cactus, Grill, was, close, to, my, hotel, and...  \n",
       "9   [Loaded, nachos, r, the, best, steak, and, chi...  \n",
       "10  [Tasty, burritos, and, daily, specials,, very,...  \n",
       "11  [Huge, amount, of, food, for, price!, I, would...  \n",
       "12                            [Popular, korean, food]  \n",
       "13  [I, used, to, love, their, budae, jjigae, when...  \n",
       "14              [hearty, soups!!!, So, much, in, it.]  \n",
       "15              [Very, fast, and, friendly, service.]  \n",
       "16  [Good!, Especially, those, soups, No.9, and, N...  \n",
       "17  [A, restaurant, pretty, convenient, from, the,...  \n",
       "18  [Wonderful, service,, great, food., Our, waitr...  \n",
       "19  [Best, Bloody, Mary, ever., Best, in, Champaig...  "
      ]
     },
     "execution_count": 54,
     "metadata": {},
     "output_type": "execute_result"
    }
   ],
   "source": [
    "df_final.head(20)"
   ]
  },
  {
   "cell_type": "code",
   "execution_count": 55,
   "metadata": {
    "id": "TKiYCW4saCU3"
   },
   "outputs": [],
   "source": [
    "df_sreview = df_final.drop(['stars','review_count','text'],axis=1)"
   ]
  },
  {
   "cell_type": "code",
   "execution_count": 56,
   "metadata": {
    "id": "h7-lLoCqaCU4",
    "outputId": "60f0f6e6-a672-47a4-a888-7457c9a7853e"
   },
   "outputs": [
    {
     "data": {
      "text/html": [
       "<div>\n",
       "<style scoped>\n",
       "    .dataframe tbody tr th:only-of-type {\n",
       "        vertical-align: middle;\n",
       "    }\n",
       "\n",
       "    .dataframe tbody tr th {\n",
       "        vertical-align: top;\n",
       "    }\n",
       "\n",
       "    .dataframe thead th {\n",
       "        text-align: right;\n",
       "    }\n",
       "</style>\n",
       "<table border=\"1\" class=\"dataframe\">\n",
       "  <thead>\n",
       "    <tr style=\"text-align: right;\">\n",
       "      <th></th>\n",
       "      <th>name</th>\n",
       "      <th>bag_of_words</th>\n",
       "    </tr>\n",
       "  </thead>\n",
       "  <tbody>\n",
       "    <tr>\n",
       "      <th>0</th>\n",
       "      <td>BoBo's BBQ</td>\n",
       "      <td>[Keep, driving., Three, better, BBQ, places, w...</td>\n",
       "    </tr>\n",
       "    <tr>\n",
       "      <th>1</th>\n",
       "      <td>BoBo's BBQ</td>\n",
       "      <td>[Great, food,, down, to, business, management,...</td>\n",
       "    </tr>\n",
       "    <tr>\n",
       "      <th>2</th>\n",
       "      <td>BoBo's BBQ</td>\n",
       "      <td>[Yelp, has, their, hours, as, open, till, 10, ...</td>\n",
       "    </tr>\n",
       "    <tr>\n",
       "      <th>3</th>\n",
       "      <td>BoBo's BBQ</td>\n",
       "      <td>[Good, food,, good, prices,, and, nice, staff.]</td>\n",
       "    </tr>\n",
       "    <tr>\n",
       "      <th>4</th>\n",
       "      <td>BoBo's BBQ</td>\n",
       "      <td>[Not, feeling, the, political, post, at, the, ...</td>\n",
       "    </tr>\n",
       "  </tbody>\n",
       "</table>\n",
       "</div>"
      ],
      "text/plain": [
       "         name                                       bag_of_words\n",
       "0  BoBo's BBQ  [Keep, driving., Three, better, BBQ, places, w...\n",
       "1  BoBo's BBQ  [Great, food,, down, to, business, management,...\n",
       "2  BoBo's BBQ  [Yelp, has, their, hours, as, open, till, 10, ...\n",
       "3  BoBo's BBQ    [Good, food,, good, prices,, and, nice, staff.]\n",
       "4  BoBo's BBQ  [Not, feeling, the, political, post, at, the, ..."
      ]
     },
     "execution_count": 56,
     "metadata": {},
     "output_type": "execute_result"
    }
   ],
   "source": [
    "df_sreview.head()"
   ]
  },
  {
   "cell_type": "code",
   "execution_count": 57,
   "metadata": {
    "id": "Z2MGWHLsaCU4"
   },
   "outputs": [],
   "source": [
    "df_sreview['liststring'] = [','.join(map(str, l)) for l in df_sreview['bag_of_words']]"
   ]
  },
  {
   "cell_type": "code",
   "execution_count": 58,
   "metadata": {
    "id": "28QM2IBWaCU4"
   },
   "outputs": [],
   "source": [
    "df_sreview.rename(columns={'bag_of_words':'bag_of_words_list','liststring':'bag_of_words'},inplace=True)"
   ]
  },
  {
   "cell_type": "code",
   "execution_count": 59,
   "metadata": {
    "id": "btMQbm4SaCU5"
   },
   "outputs": [],
   "source": [
    "df_sreview = df_sreview.set_index('name')"
   ]
  },
  {
   "cell_type": "code",
   "execution_count": 60,
   "metadata": {
    "id": "HhNWbFaYaCU5",
    "outputId": "2b0760f3-3583-43fd-f53a-3c001d238ea9"
   },
   "outputs": [
    {
     "data": {
      "text/plain": [
       "(2733, 2)"
      ]
     },
     "execution_count": 60,
     "metadata": {},
     "output_type": "execute_result"
    }
   ],
   "source": [
    "df_sreview.shape"
   ]
  },
  {
   "cell_type": "markdown",
   "metadata": {},
   "source": [
    "**We convert the words into respective word vectors using countVectoriser**"
   ]
  },
  {
   "cell_type": "code",
   "execution_count": 61,
   "metadata": {
    "id": "YbM3cARnaCU5"
   },
   "outputs": [],
   "source": [
    "count = CountVectorizer()"
   ]
  },
  {
   "cell_type": "code",
   "execution_count": 62,
   "metadata": {
    "id": "rmNaFPH1aCU6"
   },
   "outputs": [],
   "source": [
    "count_matrix = count.fit_transform(df_sreview['bag_of_words'])\n",
    "indices = pd.Series(df_sreview.index)"
   ]
  },
  {
   "cell_type": "code",
   "execution_count": 63,
   "metadata": {
    "id": "ZkCXAQVbaCU6",
    "outputId": "8555b2cf-5ff3-4c09-f09f-b30658b39032"
   },
   "outputs": [
    {
     "data": {
      "text/plain": [
       "0                    BoBo's BBQ\n",
       "1                    BoBo's BBQ\n",
       "2                    BoBo's BBQ\n",
       "3                    BoBo's BBQ\n",
       "4                    BoBo's BBQ\n",
       "                 ...           \n",
       "2728                  Taco Bell\n",
       "2729                  Taco Bell\n",
       "2730    Blaze Fast-Fire'd Pizza\n",
       "2731    Blaze Fast-Fire'd Pizza\n",
       "2732    Blaze Fast-Fire'd Pizza\n",
       "Name: name, Length: 2733, dtype: object"
      ]
     },
     "execution_count": 63,
     "metadata": {},
     "output_type": "execute_result"
    }
   ],
   "source": [
    "indices"
   ]
  },
  {
   "cell_type": "code",
   "execution_count": 64,
   "metadata": {
    "id": "R92D92xaaCU7",
    "outputId": "dd184fb2-ee35-46fa-b060-02aa13c52816"
   },
   "outputs": [
    {
     "data": {
      "text/plain": [
       "array([[1.        , 0.        , 0.        , ..., 0.        , 0.        ,\n",
       "        0.        ],\n",
       "       [0.        , 1.        , 0.        , ..., 0.04166667, 0.        ,\n",
       "        0.        ],\n",
       "       [0.        , 0.        , 1.        , ..., 0.03636965, 0.        ,\n",
       "        0.        ],\n",
       "       ...,\n",
       "       [0.        , 0.04166667, 0.03636965, ..., 1.        , 0.06804138,\n",
       "        0.08333333],\n",
       "       [0.        , 0.        , 0.        , ..., 0.06804138, 1.        ,\n",
       "        0.        ],\n",
       "       [0.        , 0.        , 0.        , ..., 0.08333333, 0.        ,\n",
       "        1.        ]])"
      ]
     },
     "execution_count": 64,
     "metadata": {},
     "output_type": "execute_result"
    }
   ],
   "source": [
    "cosine_sim = cosine_similarity(count_matrix, count_matrix)\n",
    "cosine_sim"
   ]
  },
  {
   "cell_type": "markdown",
   "metadata": {},
   "source": [
    "\n",
    "**Why is cosine similarity considered a good metric for understanding similarity between two texts?**\n",
    "\n",
    "In word2vec the training process generates word vectors that are semantically closer to point in roughly the same direction in the high dimension space of the vectors. The direction the text points can be thought as its meaning, so texts with similar meanings will be similar. Cosine measure is large when the vectors point in the same direction (i.e. are similar)."
   ]
  },
  {
   "cell_type": "code",
   "execution_count": 95,
   "metadata": {
    "id": "MM3I1LqtaCU7"
   },
   "outputs": [],
   "source": [
    "def recommendation(name,cosine_sim = cosine_sim):\n",
    "    recommended_restaurant = []\n",
    "    idx = indices[indices == name].index[0]\n",
    "    score_series = pd.Series(cosine_sim[idx]).sort_values(ascending=False)\n",
    "    top_10_indexes = list(score_series.iloc[1:11].index)\n",
    "    for i in top_10_indexes:\n",
    "        recommended_restaurant.append(list(df_sreview.index)[i])\n",
    "    return recommended_restaurant\n",
    "    "
   ]
  },
  {
   "cell_type": "markdown",
   "metadata": {},
   "source": [
    "## Recommendations\n",
    "### Recommending restaurants based on the cosine similarities of the \"tips(short texts)\" of different restaurants."
   ]
  },
  {
   "cell_type": "code",
   "execution_count": 96,
   "metadata": {
    "id": "ZdkNfsUwaCU7",
    "outputId": "6bc65bf2-f91c-4fcb-da4f-ec59174d173d"
   },
   "outputs": [
    {
     "data": {
      "text/plain": [
       "['Ming Garden',\n",
       " 'Sonic Drive-In',\n",
       " 'Kofusion',\n",
       " 'Courier Cafe',\n",
       " 'Black Dog Smoke & Ale House',\n",
       " 'Black Dog Smoke & Ale House',\n",
       " 'Kofusion',\n",
       " \"J Gumbo's\",\n",
       " 'Maize Mexican Grill',\n",
       " 'Black Dog Smoke & Ale House']"
      ]
     },
     "execution_count": 96,
     "metadata": {},
     "output_type": "execute_result"
    }
   ],
   "source": [
    "recommendation('Cactus Grill')"
   ]
  },
  {
   "cell_type": "code",
   "execution_count": 97,
   "metadata": {},
   "outputs": [
    {
     "data": {
      "text/plain": [
       "['Kofusion',\n",
       " 'Maize Mexican Grill',\n",
       " 'Fresh International Market',\n",
       " 'Sonic Drive-In',\n",
       " 'Old Chicago',\n",
       " \"O'Charley's Restaurant & Bar\",\n",
       " \"Chili's\",\n",
       " 'Fat Sandwich Company',\n",
       " 'Penn Station',\n",
       " 'Texas Roadhouse']"
      ]
     },
     "execution_count": 97,
     "metadata": {},
     "output_type": "execute_result"
    }
   ],
   "source": [
    "recommendation('Taco Bell')"
   ]
  },
  {
   "cell_type": "markdown",
   "metadata": {},
   "source": [
    "## Limitations"
   ]
  },
  {
   "cell_type": "markdown",
   "metadata": {},
   "source": [
    "* **We observed that in some cases the same restaurant is getting recommended multiple times by the recommender. This is because there are multiple tips for a single restaurant and in some cases our recommender considers these same restaurant's tips as different cosine similarity candidates.**\n",
    "\n",
    "\n",
    "* **Drawbacks in cosine similarity.**"
   ]
  },
  {
   "cell_type": "markdown",
   "metadata": {},
   "source": [
    "## Conclusion and Future Work"
   ]
  },
  {
   "cell_type": "markdown",
   "metadata": {},
   "source": [
    "**We recommended the restaurants using user ratings in our base model and using short reviews (tips) in the improvement model.\n",
    "However, we encountered limitations in our models as listed above, which can be improved as part of future works.**\n",
    "\n",
    "**The future work for this model would include adding more features to improve the model like :**\n",
    "* Location based features (Latitude and Longitude)\n",
    "* Restaurant Categories\n",
    "* Restaurant Attributes (Valet avaibalility, pets are allowed etc)\n"
   ]
  }
 ],
 "metadata": {
  "colab": {
   "name": "shortreviewbased_recommend.ipynb",
   "provenance": []
  },
  "kernelspec": {
   "display_name": "Python 3",
   "language": "python",
   "name": "python3"
  },
  "language_info": {
   "codemirror_mode": {
    "name": "ipython",
    "version": 3
   },
   "file_extension": ".py",
   "mimetype": "text/x-python",
   "name": "python",
   "nbconvert_exporter": "python",
   "pygments_lexer": "ipython3",
   "version": "3.7.4"
  }
 },
 "nbformat": 4,
 "nbformat_minor": 1
}
